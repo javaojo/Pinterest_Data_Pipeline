{
 "cells": [
  {
   "cell_type": "markdown",
   "metadata": {
    "application/vnd.databricks.v1+cell": {
     "cellMetadata": {
      "byteLimit": 2048000,
      "rowLimit": 10000
     },
     "inputWidgets": {},
     "nuid": "40fd228c-c4dc-4794-9ceb-7c48d2f3d955",
     "showTitle": false,
     "title": ""
    }
   },
   "source": [
    "#Imports"
   ]
  },
  {
   "cell_type": "code",
   "execution_count": 0,
   "metadata": {
    "application/vnd.databricks.v1+cell": {
     "cellMetadata": {
      "byteLimit": 2048000,
      "rowLimit": 10000
     },
     "inputWidgets": {},
     "nuid": "5316a386-bafa-493b-8dcc-1b207ad86d27",
     "showTitle": false,
     "title": ""
    }
   },
   "outputs": [
    {
     "output_type": "display_data",
     "data": {
      "text/html": [
       "<style scoped>\n",
       "  .ansiout {\n",
       "    display: block;\n",
       "    unicode-bidi: embed;\n",
       "    white-space: pre-wrap;\n",
       "    word-wrap: break-word;\n",
       "    word-break: break-all;\n",
       "    font-family: \"Menlo\", \"Monaco\", \"Consolas\", \"Ubuntu Mono\", \"Source Code Pro\", monospace;\n",
       "    font-size: 13px;\n",
       "    color: #555;\n",
       "    margin-left: 4px;\n",
       "    line-height: 19px;\n",
       "  }\n",
       "</style>\n",
       "<div class=\"ansiout\"></div>"
      ]
     },
     "metadata": {
      "application/vnd.databricks.v1+output": {
       "addedWidgets": {},
       "arguments": {},
       "data": "<div class=\"ansiout\"></div>",
       "datasetInfos": [],
       "metadata": {},
       "removedWidgets": [],
       "type": "html"
      }
     },
     "output_type": "display_data"
    }
   ],
   "source": [
    "from pyspark.sql.types import *\n",
    "from pyspark.sql.functions import *\n",
    "import urllib"
   ]
  },
  {
   "cell_type": "markdown",
   "metadata": {
    "application/vnd.databricks.v1+cell": {
     "cellMetadata": {
      "byteLimit": 2048000,
      "rowLimit": 10000
     },
     "inputWidgets": {},
     "nuid": "7df78a6b-ccd8-48a8-9e15-a8dd344c0d4d",
     "showTitle": false,
     "title": ""
    }
   },
   "source": [
    "#AWS Credentials"
   ]
  },
  {
   "cell_type": "code",
   "execution_count": 0,
   "metadata": {
    "application/vnd.databricks.v1+cell": {
     "cellMetadata": {
      "byteLimit": 2048000,
      "rowLimit": 10000
     },
     "inputWidgets": {},
     "nuid": "1d89f7b0-5db9-4d60-be6b-e8c460ef7a3a",
     "showTitle": false,
     "title": ""
    }
   },
   "outputs": [
    {
     "output_type": "display_data",
     "data": {
      "text/html": [
       "<style scoped>\n",
       "  .ansiout {\n",
       "    display: block;\n",
       "    unicode-bidi: embed;\n",
       "    white-space: pre-wrap;\n",
       "    word-wrap: break-word;\n",
       "    word-break: break-all;\n",
       "    font-family: \"Menlo\", \"Monaco\", \"Consolas\", \"Ubuntu Mono\", \"Source Code Pro\", monospace;\n",
       "    font-size: 13px;\n",
       "    color: #555;\n",
       "    margin-left: 4px;\n",
       "    line-height: 19px;\n",
       "  }\n",
       "</style>\n",
       "<div class=\"ansiout\"></div>"
      ]
     },
     "metadata": {
      "application/vnd.databricks.v1+output": {
       "addedWidgets": {},
       "arguments": {},
       "data": "<div class=\"ansiout\"></div>",
       "datasetInfos": [],
       "metadata": {},
       "removedWidgets": [],
       "type": "html"
      }
     },
     "output_type": "display_data"
    }
   ],
   "source": [
    "# Define the path to the Delta table\n",
    "delta_table_path = \"dbfs:/user/hive/warehouse/authentication_credentials\"\n",
    "\n",
    "# Read the Delta table to a Spark DataFrame\n",
    "aws_keys_df = spark.read.format(\"delta\").load(delta_table_path)"
   ]
  },
  {
   "cell_type": "code",
   "execution_count": 0,
   "metadata": {
    "application/vnd.databricks.v1+cell": {
     "cellMetadata": {
      "byteLimit": 2048000,
      "rowLimit": 10000
     },
     "inputWidgets": {},
     "nuid": "15b66b35-29f3-4b94-a718-631416fe6150",
     "showTitle": false,
     "title": ""
    }
   },
   "outputs": [
    {
     "output_type": "display_data",
     "data": {
      "text/html": [
       "<style scoped>\n",
       "  .ansiout {\n",
       "    display: block;\n",
       "    unicode-bidi: embed;\n",
       "    white-space: pre-wrap;\n",
       "    word-wrap: break-word;\n",
       "    word-break: break-all;\n",
       "    font-family: \"Menlo\", \"Monaco\", \"Consolas\", \"Ubuntu Mono\", \"Source Code Pro\", monospace;\n",
       "    font-size: 13px;\n",
       "    color: #555;\n",
       "    margin-left: 4px;\n",
       "    line-height: 19px;\n",
       "  }\n",
       "</style>\n",
       "<div class=\"ansiout\"></div>"
      ]
     },
     "metadata": {
      "application/vnd.databricks.v1+output": {
       "addedWidgets": {},
       "arguments": {},
       "data": "<div class=\"ansiout\"></div>",
       "datasetInfos": [],
       "metadata": {},
       "removedWidgets": [],
       "type": "html"
      }
     },
     "output_type": "display_data"
    }
   ],
   "source": [
    "# Get the AWS access key and secret key from the spark dataframe\n",
    "ACCESS_KEY = aws_keys_df.select('Access key ID').collect()[0]['Access key ID']\n",
    "SECRET_KEY = aws_keys_df.select('Secret access key').collect()[0]['Secret access key']\n",
    "# Encode the secrete key\n",
    "ENCODED_SECRET_KEY = urllib.parse.quote(string=SECRET_KEY, safe=\"\")"
   ]
  },
  {
   "cell_type": "code",
   "execution_count": 0,
   "metadata": {
    "application/vnd.databricks.v1+cell": {
     "cellMetadata": {
      "byteLimit": 2048000,
      "implicitDf": true,
      "rowLimit": 10000
     },
     "inputWidgets": {},
     "nuid": "1ee9c0c5-9bf4-423a-b368-9ca1be8b1555",
     "showTitle": false,
     "title": ""
    }
   },
   "outputs": [
    {
     "output_type": "display_data",
     "data": {
      "text/html": [
       "<style scoped>\n",
       "  .table-result-container {\n",
       "    max-height: 300px;\n",
       "    overflow: auto;\n",
       "  }\n",
       "  table, th, td {\n",
       "    border: 1px solid black;\n",
       "    border-collapse: collapse;\n",
       "  }\n",
       "  th, td {\n",
       "    padding: 5px;\n",
       "  }\n",
       "  th {\n",
       "    text-align: left;\n",
       "  }\n",
       "</style><div class='table-result-container'><table class='table-result'><thead style='background-color: white'><tr><th>key</th><th>value</th></tr></thead><tbody><tr><td>spark.databricks.delta.formatCheck.enabled</td><td>false</td></tr></tbody></table></div>"
      ]
     },
     "metadata": {
      "application/vnd.databricks.v1+output": {
       "addedWidgets": {},
       "aggData": [],
       "aggError": "",
       "aggOverflow": false,
       "aggSchema": [],
       "aggSeriesLimitReached": false,
       "aggType": "",
       "arguments": {},
       "columnCustomDisplayInfos": {},
       "data": [
        [
         "spark.databricks.delta.formatCheck.enabled",
         "false"
        ]
       ],
       "datasetInfos": [],
       "dbfsResultPath": null,
       "isJsonSchema": true,
       "metadata": {},
       "overflow": false,
       "plotOptions": {
        "customPlotOptions": {},
        "displayType": "table",
        "pivotAggregation": null,
        "pivotColumns": null,
        "xColumns": null,
        "yColumns": null
       },
       "removedWidgets": [],
       "schema": [
        {
         "metadata": "{}",
         "name": "key",
         "type": "\"string\""
        },
        {
         "metadata": "{}",
         "name": "value",
         "type": "\"string\""
        }
       ],
       "type": "table"
      }
     },
     "output_type": "display_data"
    }
   ],
   "source": [
    "%sql\n",
    "-- Disable format checks during the reading of Delta tables\n",
    "SET spark.databricks.delta.formatCheck.enabled=false"
   ]
  },
  {
   "cell_type": "markdown",
   "metadata": {
    "application/vnd.databricks.v1+cell": {
     "cellMetadata": {
      "byteLimit": 2048000,
      "rowLimit": 10000
     },
     "inputWidgets": {},
     "nuid": "122cc475-cbb8-48ac-a8fc-5cb8735e6a7e",
     "showTitle": false,
     "title": ""
    }
   },
   "source": [
    "# Read & Write Streams Functions"
   ]
  },
  {
   "cell_type": "code",
   "execution_count": 0,
   "metadata": {
    "application/vnd.databricks.v1+cell": {
     "cellMetadata": {
      "byteLimit": 2048000,
      "rowLimit": 10000
     },
     "inputWidgets": {},
     "nuid": "df847c89-2be9-44c4-b977-404d1bd488d0",
     "showTitle": false,
     "title": ""
    }
   },
   "outputs": [
    {
     "output_type": "display_data",
     "data": {
      "text/html": [
       "<style scoped>\n",
       "  .ansiout {\n",
       "    display: block;\n",
       "    unicode-bidi: embed;\n",
       "    white-space: pre-wrap;\n",
       "    word-wrap: break-word;\n",
       "    word-break: break-all;\n",
       "    font-family: \"Menlo\", \"Monaco\", \"Consolas\", \"Ubuntu Mono\", \"Source Code Pro\", monospace;\n",
       "    font-size: 13px;\n",
       "    color: #555;\n",
       "    margin-left: 4px;\n",
       "    line-height: 19px;\n",
       "  }\n",
       "</style>\n",
       "<div class=\"ansiout\"></div>"
      ]
     },
     "metadata": {
      "application/vnd.databricks.v1+output": {
       "addedWidgets": {},
       "arguments": {},
       "data": "<div class=\"ansiout\"></div>",
       "datasetInfos": [],
       "metadata": {},
       "removedWidgets": [],
       "type": "html"
      }
     },
     "output_type": "display_data"
    }
   ],
   "source": [
    "def read_stream(kinesis_stream_name):\n",
    "    \"\"\"\n",
    "    Reads data from a Kinesis stream.\n",
    "\n",
    "    Args:\n",
    "        kinesis_stream_name (str): Name of the Kinesis stream.\n",
    "\n",
    "    Returns:\n",
    "        DataFrame: Spark DataFrame containing the streaming data from Kinesis.\n",
    "    \"\"\"\n",
    "    # Configure the Kinesis stream reader\n",
    "    dataframe = spark \\\n",
    "        .readStream \\\n",
    "        .format('kinesis') \\\n",
    "        .option('streamName', kinesis_stream_name) \\\n",
    "        .option('initialPosition', 'earliest') \\\n",
    "        .option('region', 'us-east-1') \\\n",
    "        .option('awsAccessKey', ACCESS_KEY) \\\n",
    "        .option('awsSecretKey', SECRET_KEY) \\\n",
    "        .load()\n",
    "\n",
    "    return dataframe\n",
    "\n",
    "def write_stream_df_to_table(dataframe, kinesis_stream_name):\n",
    "    '''\n",
    "    Writes a DataFrame to a Delta table using the specified Kinesis stream name.\n",
    "\n",
    "    Args:\n",
    "        dataframe (DataFrame): Spark DataFrame to be written.\n",
    "        kinesis_stream_name (str): Name of the Kinesis stream.\n",
    "\n",
    "    Returns:\n",
    "        None\n",
    "    '''\n",
    "    # Configure the Delta table writer for the streaming DataFrame\n",
    "    dataframe.writeStream \\\n",
    "        .format(\"delta\") \\\n",
    "        .outputMode(\"append\") \\\n",
    "        .option(\"checkpointLocation\", \"/tmp/kinesis/_checkpoints/\" + kinesis_stream_name) \\\n",
    "        .table(kinesis_stream_name)\n",
    "        "
   ]
  },
  {
   "cell_type": "markdown",
   "metadata": {
    "application/vnd.databricks.v1+cell": {
     "cellMetadata": {
      "byteLimit": 2048000,
      "rowLimit": 10000
     },
     "inputWidgets": {},
     "nuid": "59602423-9f69-4175-a6cf-e993f69c9b78",
     "showTitle": false,
     "title": ""
    }
   },
   "source": [
    "# Clean Data Functions"
   ]
  },
  {
   "cell_type": "code",
   "execution_count": 0,
   "metadata": {
    "application/vnd.databricks.v1+cell": {
     "cellMetadata": {
      "byteLimit": 2048000,
      "rowLimit": 10000
     },
     "inputWidgets": {},
     "nuid": "e2c8b479-5c41-4b5b-b338-2f9d86edd224",
     "showTitle": false,
     "title": ""
    }
   },
   "outputs": [
    {
     "output_type": "display_data",
     "data": {
      "text/html": [
       "<style scoped>\n",
       "  .ansiout {\n",
       "    display: block;\n",
       "    unicode-bidi: embed;\n",
       "    white-space: pre-wrap;\n",
       "    word-wrap: break-word;\n",
       "    word-break: break-all;\n",
       "    font-family: \"Menlo\", \"Monaco\", \"Consolas\", \"Ubuntu Mono\", \"Source Code Pro\", monospace;\n",
       "    font-size: 13px;\n",
       "    color: #555;\n",
       "    margin-left: 4px;\n",
       "    line-height: 19px;\n",
       "  }\n",
       "</style>\n",
       "<div class=\"ansiout\"></div>"
      ]
     },
     "metadata": {
      "application/vnd.databricks.v1+output": {
       "addedWidgets": {},
       "arguments": {},
       "data": "<div class=\"ansiout\"></div>",
       "datasetInfos": [],
       "metadata": {},
       "removedWidgets": [],
       "type": "html"
      }
     },
     "output_type": "display_data"
    }
   ],
   "source": [
    "def clean_dataframe_pin(df_pin):\n",
    "    \"\"\"\n",
    "    Cleans the input DataFrame df_pin by replacing null or irrelevant data with default values.\n",
    "\n",
    "    Parameters:\n",
    "    - df_pin: Input DataFrame to be cleaned.\n",
    "\n",
    "    Returns:\n",
    "    - Cleaned DataFrame.\n",
    "    \"\"\"\n",
    "\n",
    "    # Dictionary containing default values to replace null or irrelevant data\n",
    "    null_dicts = {\n",
    "        \"description\": \"No description available\",\n",
    "        \"follower_count\": \"User Info Error\",\n",
    "        \"image_src\": \"Image src error.\",\n",
    "        \"poster_name\": \"User Info Error\",\n",
    "        \"tag_list\": \"N,o, ,T,a,g,s, ,A,v,a,i,l,a,b,l,e\",\n",
    "        \"title\": \"No Title Data Available\"\n",
    "    }\n",
    "\n",
    "    # Drop any duplicate rows in the dataframe (if needed)\n",
    "    # df_pin = df_pin.dropDuplicates(subset=[\"unique_id\"])\n",
    "\n",
    "    # Replace empty and non-relevant data in each column with specified values\n",
    "    for key, value in null_dicts.items():\n",
    "        if key == \"follower_count\":\n",
    "            # Replace specified value with \"0\" in the \"follower_count\" column\n",
    "            df_pin = df_pin.withColumn(key, regexp_replace(key, value, \"0\"))\n",
    "        elif key == \"description\":\n",
    "            # Replace the description column with \"None\" if it starts with the specified value, otherwise keep the original value\n",
    "            df_pin = df_pin.withColumn(key, when(col(key).startswith(value), \"None\").otherwise(col(key)))\n",
    "        else:\n",
    "            # Replace specified value with \"None\" in other columns\n",
    "            df_pin = df_pin.withColumn(key, regexp_replace(key, value, \"None\"))\n",
    "\n",
    "    # Convert follower_count values with \"k\", \"M\", \"B\" suffixes to numeric values\n",
    "    df_pin = df_pin.withColumn(\"follower_count\", regexp_replace(\"follower_count\", \"k\", \"000\"))\n",
    "    df_pin = df_pin.withColumn(\"follower_count\", regexp_replace(\"follower_count\", \"M\", \"0000\"))\n",
    "    df_pin = df_pin.withColumn(\"follower_count\", regexp_replace(\"follower_count\", \"B\", \"00000\"))\n",
    "    df_pin = df_pin.withColumn(\"follower_count\", df_pin[\"follower_count\"].cast(\"int\"))\n",
    "\n",
    "    # Remove \"Local save in\" from save_location column\n",
    "    df_pin = df_pin.withColumn(\"save_location\", regexp_replace(\"save_location\", \"Local save in\", \"\"))\n",
    "\n",
    "    # Rename the \"index\" column to \"ind\"\n",
    "    df_pin = df_pin.withColumnRenamed(\"index\", \"ind\")\n",
    "\n",
    "    # Define the desired order of columns\n",
    "    column_order_pin = [\n",
    "        \"ind\",\n",
    "        \"unique_id\",\n",
    "        \"title\",\n",
    "        \"description\",\n",
    "        \"follower_count\",\n",
    "        \"poster_name\",\n",
    "        \"tag_list\",\n",
    "        \"is_image_or_video\",\n",
    "        \"image_src\",\n",
    "        \"save_location\",\n",
    "        \"category\"\n",
    "    ]\n",
    "\n",
    "    # Select and reorder the columns in the specified order\n",
    "    df_pin = df_pin.select(column_order_pin)\n",
    "\n",
    "\n",
    "    return df_pin"
   ]
  },
  {
   "cell_type": "code",
   "execution_count": 0,
   "metadata": {
    "application/vnd.databricks.v1+cell": {
     "cellMetadata": {
      "byteLimit": 2048000,
      "rowLimit": 10000
     },
     "inputWidgets": {},
     "nuid": "6c1e6e07-ddae-4156-8196-85f8d41bb4e2",
     "showTitle": false,
     "title": ""
    }
   },
   "outputs": [
    {
     "output_type": "display_data",
     "data": {
      "text/html": [
       "<style scoped>\n",
       "  .ansiout {\n",
       "    display: block;\n",
       "    unicode-bidi: embed;\n",
       "    white-space: pre-wrap;\n",
       "    word-wrap: break-word;\n",
       "    word-break: break-all;\n",
       "    font-family: \"Menlo\", \"Monaco\", \"Consolas\", \"Ubuntu Mono\", \"Source Code Pro\", monospace;\n",
       "    font-size: 13px;\n",
       "    color: #555;\n",
       "    margin-left: 4px;\n",
       "    line-height: 19px;\n",
       "  }\n",
       "</style>\n",
       "<div class=\"ansiout\"></div>"
      ]
     },
     "metadata": {
      "application/vnd.databricks.v1+output": {
       "addedWidgets": {},
       "arguments": {},
       "data": "<div class=\"ansiout\"></div>",
       "datasetInfos": [],
       "metadata": {},
       "removedWidgets": [],
       "type": "html"
      }
     },
     "output_type": "display_data"
    }
   ],
   "source": [
    "def clean_dataframe_geo(df_geo):\n",
    "    \"\"\"\n",
    "    Cleans the DataFrame containing geographical data.\n",
    "\n",
    "    Args:\n",
    "        df_geo (DataFrame): Input DataFrame containing geographical data.\n",
    "\n",
    "    Returns:\n",
    "        DataFrame: Cleaned DataFrame with specified columns and transformations.\n",
    "    \"\"\"\n",
    "    # Select relevant columns from the input DataFrame\n",
    "    df_geo = df_array[1].select(*df_array[1].columns)\n",
    "    \n",
    "    # Uncomment the line below if duplicate rows need to be dropped\n",
    "    # df_geo = df_geo.dropDuplicates()\n",
    "\n",
    "    # Create a new column \"coordinates\" by combining \"latitude\" and \"longitude\"\n",
    "    df_geo = df_geo.withColumn(\"coordinates\", array(\"latitude\", \"longitude\"))\n",
    "\n",
    "    # Drop the original \"latitude\" and \"longitude\" columns\n",
    "    df_geo = df_geo.drop(\"latitude\", \"longitude\")\n",
    "\n",
    "    # Convert the \"timestamp\" column to a timestamp type\n",
    "    df_geo = df_geo.withColumn(\"timestamp\", to_timestamp(\"timestamp\"))\n",
    "\n",
    "    # Define the desired order of columns\n",
    "    column_order_geo = [\n",
    "        \"ind\",\n",
    "        \"country\",\n",
    "        \"coordinates\",\n",
    "        \"timestamp\"\n",
    "    ]\n",
    "    \n",
    "    # Select and reorder the columns in the specified order\n",
    "    df_geo = df_geo.select(column_order_geo)\n",
    "    \n",
    "    return df_geo"
   ]
  },
  {
   "cell_type": "code",
   "execution_count": 0,
   "metadata": {
    "application/vnd.databricks.v1+cell": {
     "cellMetadata": {
      "byteLimit": 2048000,
      "rowLimit": 10000
     },
     "inputWidgets": {},
     "nuid": "2f1f8c84-fb35-4b04-9565-cda485fe53f4",
     "showTitle": false,
     "title": ""
    }
   },
   "outputs": [
    {
     "output_type": "display_data",
     "data": {
      "text/html": [
       "<style scoped>\n",
       "  .ansiout {\n",
       "    display: block;\n",
       "    unicode-bidi: embed;\n",
       "    white-space: pre-wrap;\n",
       "    word-wrap: break-word;\n",
       "    word-break: break-all;\n",
       "    font-family: \"Menlo\", \"Monaco\", \"Consolas\", \"Ubuntu Mono\", \"Source Code Pro\", monospace;\n",
       "    font-size: 13px;\n",
       "    color: #555;\n",
       "    margin-left: 4px;\n",
       "    line-height: 19px;\n",
       "  }\n",
       "</style>\n",
       "<div class=\"ansiout\"></div>"
      ]
     },
     "metadata": {
      "application/vnd.databricks.v1+output": {
       "addedWidgets": {},
       "arguments": {},
       "data": "<div class=\"ansiout\"></div>",
       "datasetInfos": [],
       "metadata": {},
       "removedWidgets": [],
       "type": "html"
      }
     },
     "output_type": "display_data"
    }
   ],
   "source": [
    "def clean_dataframe_user(df_user):\n",
    "    \"\"\"\n",
    "    Cleans the DataFrame containing user data.\n",
    "\n",
    "    Args:\n",
    "        df_user (DataFrame): Input DataFrame containing user data.\n",
    "\n",
    "    Returns:\n",
    "        DataFrame: Cleaned DataFrame with specified columns and transformations.\n",
    "    \"\"\"\n",
    "    # Concatenate \"first_name\" and \"last_name\" columns to create a new \"user_name\" column\n",
    "    df_user = df_user.withColumn(\"user_name\", concat(\"first_name\", lit(\" \"), \"last_name\"))\n",
    "\n",
    "    # Drop the original \"first_name\" and \"last_name\" columns\n",
    "    df_user = df_user.drop(\"first_name\", \"last_name\")\n",
    "\n",
    "    # Convert the \"date_joined\" column to a timestamp type\n",
    "    df_user = df_user.withColumn(\"date_joined\", to_timestamp(\"date_joined\"))\n",
    "\n",
    "    # Select the desired columns\n",
    "    df_user = df_user.select(\"ind\", \"user_name\", \"age\", \"date_joined\")\n",
    "\n",
    "    return df_user"
   ]
  },
  {
   "cell_type": "code",
   "execution_count": 0,
   "metadata": {
    "application/vnd.databricks.v1+cell": {
     "cellMetadata": {
      "byteLimit": 2048000,
      "rowLimit": 10000
     },
     "inputWidgets": {},
     "nuid": "2dc4bbc0-a5e3-4262-b841-a8aad1f63388",
     "showTitle": false,
     "title": ""
    }
   },
   "outputs": [
    {
     "output_type": "display_data",
     "data": {
      "text/html": [
       "<style scoped>\n",
       "  .ansiout {\n",
       "    display: block;\n",
       "    unicode-bidi: embed;\n",
       "    white-space: pre-wrap;\n",
       "    word-wrap: break-word;\n",
       "    word-break: break-all;\n",
       "    font-family: \"Menlo\", \"Monaco\", \"Consolas\", \"Ubuntu Mono\", \"Source Code Pro\", monospace;\n",
       "    font-size: 13px;\n",
       "    color: #555;\n",
       "    margin-left: 4px;\n",
       "    line-height: 19px;\n",
       "  }\n",
       "</style>\n",
       "<div class=\"ansiout\"></div>"
      ]
     },
     "metadata": {
      "application/vnd.databricks.v1+output": {
       "addedWidgets": {},
       "arguments": {},
       "data": "<div class=\"ansiout\"></div>",
       "datasetInfos": [],
       "metadata": {},
       "removedWidgets": [],
       "type": "html"
      }
     },
     "output_type": "display_data"
    }
   ],
   "source": [
    "pin_stream = read_stream('streaming-0ae9e110c9db-pin')\n",
    "geo_stream = read_stream('streaming-0ae9e110c9db-geo')\n",
    "user_stream = read_stream('streaming-0ae9e110c9db-user')"
   ]
  },
  {
   "cell_type": "code",
   "execution_count": 0,
   "metadata": {
    "application/vnd.databricks.v1+cell": {
     "cellMetadata": {
      "byteLimit": 2048000,
      "rowLimit": 10000
     },
     "inputWidgets": {},
     "nuid": "a987b458-9d99-4146-a9b0-53f037f2b6d7",
     "showTitle": false,
     "title": ""
    }
   },
   "outputs": [
    {
     "output_type": "display_data",
     "data": {
      "text/html": [
       "<style scoped>\n",
       "  .ansiout {\n",
       "    display: block;\n",
       "    unicode-bidi: embed;\n",
       "    white-space: pre-wrap;\n",
       "    word-wrap: break-word;\n",
       "    word-break: break-all;\n",
       "    font-family: \"Menlo\", \"Monaco\", \"Consolas\", \"Ubuntu Mono\", \"Source Code Pro\", monospace;\n",
       "    font-size: 13px;\n",
       "    color: #555;\n",
       "    margin-left: 4px;\n",
       "    line-height: 19px;\n",
       "  }\n",
       "</style>\n",
       "<div class=\"ansiout\"></div>"
      ]
     },
     "metadata": {
      "application/vnd.databricks.v1+output": {
       "addedWidgets": {},
       "arguments": {},
       "data": "<div class=\"ansiout\"></div>",
       "datasetInfos": [],
       "metadata": {},
       "removedWidgets": [],
       "type": "html"
      }
     },
     "output_type": "display_data"
    }
   ],
   "source": [
    "# Define the schema for the \"pin\" DataFrame\n",
    "pin_schema = StructType([\n",
    "    StructField(\"index\", IntegerType()),\n",
    "    StructField(\"unique_id\", StringType()),\n",
    "    StructField(\"title\", StringType()),\n",
    "    StructField(\"description\", StringType()),\n",
    "    StructField(\"poster_name\", StringType()),\n",
    "    StructField(\"follower_count\", StringType()),\n",
    "    StructField(\"tag_list\", StringType()),\n",
    "    StructField(\"is_image_or_video\", StringType()),\n",
    "    StructField(\"image_src\", StringType()),\n",
    "    StructField(\"downloaded\", IntegerType()),\n",
    "    StructField(\"save_location\", StringType()),\n",
    "    StructField(\"category\", StringType())\n",
    "])\n",
    "\n",
    "# Define the schema for the \"geo\" DataFrame\n",
    "geo_schema = StructType([\n",
    "    StructField(\"ind\", IntegerType()),\n",
    "    StructField(\"timestamp\", TimestampType()),\n",
    "    StructField(\"latitude\", FloatType()),\n",
    "    StructField(\"longitude\", FloatType()),\n",
    "    StructField(\"country\", StringType())\n",
    "])\n",
    "\n",
    "# Define the schema for the \"user\" DataFrame\n",
    "user_schema = StructType([\n",
    "    StructField(\"ind\", IntegerType()),\n",
    "    StructField(\"first_name\", StringType()),\n",
    "    StructField(\"last_name\", StringType()),\n",
    "    StructField(\"age\", StringType()),\n",
    "    StructField(\"date_joined\", TimestampType())\n",
    "])"
   ]
  },
  {
   "cell_type": "code",
   "execution_count": 0,
   "metadata": {
    "application/vnd.databricks.v1+cell": {
     "cellMetadata": {
      "byteLimit": 2048000,
      "rowLimit": 10000
     },
     "inputWidgets": {},
     "nuid": "6059b9bc-79bc-4370-ade1-bd0026c5c54a",
     "showTitle": false,
     "title": ""
    }
   },
   "outputs": [
    {
     "output_type": "display_data",
     "data": {
      "text/html": [
       "<style scoped>\n",
       "  .ansiout {\n",
       "    display: block;\n",
       "    unicode-bidi: embed;\n",
       "    white-space: pre-wrap;\n",
       "    word-wrap: break-word;\n",
       "    word-break: break-all;\n",
       "    font-family: \"Menlo\", \"Monaco\", \"Consolas\", \"Ubuntu Mono\", \"Source Code Pro\", monospace;\n",
       "    font-size: 13px;\n",
       "    color: #555;\n",
       "    margin-left: 4px;\n",
       "    line-height: 19px;\n",
       "  }\n",
       "</style>\n",
       "<div class=\"ansiout\"></div>"
      ]
     },
     "metadata": {
      "application/vnd.databricks.v1+output": {
       "addedWidgets": {},
       "arguments": {},
       "data": "<div class=\"ansiout\"></div>",
       "datasetInfos": [],
       "metadata": {},
       "removedWidgets": [],
       "type": "html"
      }
     },
     "output_type": "display_data"
    }
   ],
   "source": [
    "def deserialise_datastream(df, schema):\n",
    "    \"\"\"\n",
    "    Deserializes a DataFrame containing serialized data using a specified schema.\n",
    "\n",
    "    Args:\n",
    "        df (DataFrame): Input DataFrame containing serialized data.\n",
    "        schema (StructType): Spark StructType representing the schema of the deserialized data.\n",
    "\n",
    "    Returns:\n",
    "        DataFrame: Deserialized DataFrame with columns based on the specified schema.\n",
    "    \"\"\"\n",
    "    # Cast the \"data\" column to STRING type\n",
    "    df = df.selectExpr(\"CAST(data as STRING)\")\n",
    "\n",
    "    # Apply the from_json function to deserialize the \"data\" column based on the provided schema\n",
    "    new_df = df.select(from_json(\"data\", schema)).select(\"from_json(data).*\")\n",
    "\n",
    "    return new_df"
   ]
  },
  {
   "cell_type": "markdown",
   "metadata": {
    "application/vnd.databricks.v1+cell": {
     "cellMetadata": {},
     "inputWidgets": {},
     "nuid": "530176eb-3dce-42e1-ba17-25dbe46ea88c",
     "showTitle": false,
     "title": ""
    }
   },
   "source": [
    "#Deserialize streams"
   ]
  },
  {
   "cell_type": "code",
   "execution_count": 0,
   "metadata": {
    "application/vnd.databricks.v1+cell": {
     "cellMetadata": {
      "byteLimit": 2048000,
      "rowLimit": 10000
     },
     "inputWidgets": {},
     "nuid": "6de9f33a-2c94-41ea-8eec-15cab0440c04",
     "showTitle": false,
     "title": ""
    }
   },
   "outputs": [
    {
     "output_type": "display_data",
     "data": {
      "text/html": [
       "<style scoped>\n",
       "  .ansiout {\n",
       "    display: block;\n",
       "    unicode-bidi: embed;\n",
       "    white-space: pre-wrap;\n",
       "    word-wrap: break-word;\n",
       "    word-break: break-all;\n",
       "    font-family: \"Menlo\", \"Monaco\", \"Consolas\", \"Ubuntu Mono\", \"Source Code Pro\", monospace;\n",
       "    font-size: 13px;\n",
       "    color: #555;\n",
       "    margin-left: 4px;\n",
       "    line-height: 19px;\n",
       "  }\n",
       "</style>\n",
       "<div class=\"ansiout\"></div>"
      ]
     },
     "metadata": {
      "application/vnd.databricks.v1+output": {
       "addedWidgets": {},
       "arguments": {},
       "data": "<div class=\"ansiout\"></div>",
       "datasetInfos": [],
       "metadata": {},
       "removedWidgets": [],
       "type": "html"
      }
     },
     "output_type": "display_data"
    }
   ],
   "source": [
    "df_pin = deserialise_datastream(pin_stream, pin_schema)\n",
    "df_geo = deserialise_datastream(geo_stream, geo_schema)\n",
    "df_user = deserialise_datastream(user_stream, user_schema)"
   ]
  },
  {
   "cell_type": "code",
   "execution_count": 0,
   "metadata": {
    "application/vnd.databricks.v1+cell": {
     "cellMetadata": {
      "byteLimit": 2048000,
      "rowLimit": 10000
     },
     "inputWidgets": {},
     "nuid": "cb0d9af8-352e-4376-a188-dd9e1a15afd7",
     "showTitle": false,
     "title": ""
    }
   },
   "outputs": [
    {
     "output_type": "display_data",
     "data": {
      "text/html": [
       "<style scoped>\n",
       "  .table-result-container {\n",
       "    max-height: 300px;\n",
       "    overflow: auto;\n",
       "  }\n",
       "  table, th, td {\n",
       "    border: 1px solid black;\n",
       "    border-collapse: collapse;\n",
       "  }\n",
       "  th, td {\n",
       "    padding: 5px;\n",
       "  }\n",
       "  th {\n",
       "    text-align: left;\n",
       "  }\n",
       "</style><div class='table-result-container'><table class='table-result'><thead style='background-color: white'><tr><th>index</th><th>unique_id</th><th>title</th><th>description</th><th>poster_name</th><th>follower_count</th><th>tag_list</th><th>is_image_or_video</th><th>image_src</th><th>downloaded</th><th>save_location</th><th>category</th></tr></thead><tbody><tr><td>2863</td><td>9bf39437-42a6-4f02-99a0-9a0383d8cd70</td><td>25 Super Fun Summer Crafts for Kids - Of Life and Lisa</td><td>Keep the kids busy this summer with these easy diy crafts and projects. Creative and…</td><td>Of Life & Lisa | Lifestyle Blog</td><td>124k</td><td>Summer Crafts For Kids,Fun Crafts For Kids,Summer Kids,Toddler Crafts,Crafts To Do,Diy For Kids,Summer Snow,Diys For Summer,Craft Ideas For Girls</td><td>image</td><td>https://i.pinimg.com/originals/b3/bc/e2/b3bce2964e8c8975387b39660eed5f16.jpg</td><td>1</td><td>Local save in /data/diy-and-crafts</td><td>diy-and-crafts</td></tr><tr><td>7528</td><td>fbe53c66-3442-4773-b19e-d3ec6f54dddf</td><td>No Title Data Available</td><td>No description available Story format</td><td>User Info Error</td><td>User Info Error</td><td>N,o, ,T,a,g,s, ,A,v,a,i,l,a,b,l,e</td><td>multi-video(story page format)</td><td>Image src error.</td><td>0</td><td>Local save in /data/mens-fashion</td><td>mens-fashion</td></tr><tr><td>8304</td><td>5b6d0913-25e4-43ab-839d-85d5516f78a4</td><td>The #1 Reason You’re Not His Priority Anymore - Matthew Coast</td><td>#lovequotes #matchmaker #matchmadeinheaven #loveyourself #respectyourself</td><td>Commitment Connection</td><td>51k</td><td>Wise Quotes,Quotable Quotes,Words Quotes,Wise Words,Quotes To Live By,Great Quotes,Motivational Quotes,Inspirational Quotes,Funny Quotes</td><td>image</td><td>https://i.pinimg.com/originals/c6/64/ee/c664ee71524fb5a6e7b7b49233f93b43.png</td><td>1</td><td>Local save in /data/quotes</td><td>quotes</td></tr><tr><td>1313</td><td>44662045-e891-4821-8a19-ebe7eedd371a</td><td>Liquid Lash Extensions Mascara</td><td>Instantly create the look of lash extensions with this award-winning, best-selling mascara that won't clump, flake or smudge. Available in 3 shades!</td><td>Thrive Causemetics</td><td>43k</td><td>N,o, ,T,a,g,s, ,A,v,a,i,l,a,b,l,e</td><td>video</td><td>https://i.pinimg.com/videos/thumbnails/originals/69/84/e2/6984e20f3e262098fa9c0614c3453254.0000001.jpg</td><td>1</td><td>Local save in /data/beauty</td><td>beauty</td></tr><tr><td>5730</td><td>1e1f0c8b-9fcf-460b-9154-c775827206eb</td><td>Island Oasis Coupon Organizer</td><td>Description Coupon Organizer in a fun colorful fabric -island oasis, Great Size for the \"basic\" couponer - holds up to 500 coupons with ease, and is made long enough so that you… </td><td>Consuelo Aguirre</td><td>0</td><td>Grocery Items,Grocery Coupons,Care Organization,Coupon Organization,Extreme Couponing,Couponing 101,Life Binder,Save My Money,Love Coupons</td><td>image</td><td>https://i.pinimg.com/originals/65/bb/ea/65bbeaf458907bb079317d8303c4fa0e.jpg</td><td>1</td><td>Local save in /data/finance</td><td>finance</td></tr><tr><td>8731</td><td>ea760f71-febf-4023-b592-d17396659039</td><td>20 Koi Fish Tattoos For Lucky Men</td><td>Koi fish tattoos are a popular choice for men who want to make a statement, thanks to their rich symbolism and bold design.</td><td>TheTrendSpotter</td><td>211k</td><td>Dr Tattoo,Wörter Tattoos,Pisces Tattoos,Tatoo Art,Dream Tattoos,Dope Tattoos,Mini Tattoos,Finger Tattoos,Body Art Tattoos</td><td>image</td><td>https://i.pinimg.com/originals/8a/0c/0a/8a0c0a7b6236565c519acd41ad1a52c0.jpg</td><td>1</td><td>Local save in /data/tattoos</td><td>tattoos</td></tr></tbody></table></div>"
      ]
     },
     "metadata": {
      "application/vnd.databricks.v1+output": {
       "addedWidgets": {},
       "aggData": [],
       "aggError": "",
       "aggOverflow": false,
       "aggSchema": [],
       "aggSeriesLimitReached": false,
       "aggType": "",
       "arguments": {},
       "columnCustomDisplayInfos": {},
       "data": [
        [
         2863,
         "9bf39437-42a6-4f02-99a0-9a0383d8cd70",
         "25 Super Fun Summer Crafts for Kids - Of Life and Lisa",
         "Keep the kids busy this summer with these easy diy crafts and projects. Creative and…",
         "Of Life & Lisa | Lifestyle Blog",
         "124k",
         "Summer Crafts For Kids,Fun Crafts For Kids,Summer Kids,Toddler Crafts,Crafts To Do,Diy For Kids,Summer Snow,Diys For Summer,Craft Ideas For Girls",
         "image",
         "https://i.pinimg.com/originals/b3/bc/e2/b3bce2964e8c8975387b39660eed5f16.jpg",
         1,
         "Local save in /data/diy-and-crafts",
         "diy-and-crafts"
        ],
        [
         7528,
         "fbe53c66-3442-4773-b19e-d3ec6f54dddf",
         "No Title Data Available",
         "No description available Story format",
         "User Info Error",
         "User Info Error",
         "N,o, ,T,a,g,s, ,A,v,a,i,l,a,b,l,e",
         "multi-video(story page format)",
         "Image src error.",
         0,
         "Local save in /data/mens-fashion",
         "mens-fashion"
        ],
        [
         8304,
         "5b6d0913-25e4-43ab-839d-85d5516f78a4",
         "The #1 Reason You’re Not His Priority Anymore - Matthew Coast",
         "#lovequotes #matchmaker #matchmadeinheaven #loveyourself #respectyourself",
         "Commitment Connection",
         "51k",
         "Wise Quotes,Quotable Quotes,Words Quotes,Wise Words,Quotes To Live By,Great Quotes,Motivational Quotes,Inspirational Quotes,Funny Quotes",
         "image",
         "https://i.pinimg.com/originals/c6/64/ee/c664ee71524fb5a6e7b7b49233f93b43.png",
         1,
         "Local save in /data/quotes",
         "quotes"
        ],
        [
         1313,
         "44662045-e891-4821-8a19-ebe7eedd371a",
         "Liquid Lash Extensions Mascara",
         "Instantly create the look of lash extensions with this award-winning, best-selling mascara that won't clump, flake or smudge. Available in 3 shades!",
         "Thrive Causemetics",
         "43k",
         "N,o, ,T,a,g,s, ,A,v,a,i,l,a,b,l,e",
         "video",
         "https://i.pinimg.com/videos/thumbnails/originals/69/84/e2/6984e20f3e262098fa9c0614c3453254.0000001.jpg",
         1,
         "Local save in /data/beauty",
         "beauty"
        ],
        [
         5730,
         "1e1f0c8b-9fcf-460b-9154-c775827206eb",
         "Island Oasis Coupon Organizer",
         "Description Coupon Organizer in a fun colorful fabric -island oasis, Great Size for the \"basic\" couponer - holds up to 500 coupons with ease, and is made long enough so that you… ",
         "Consuelo Aguirre",
         "0",
         "Grocery Items,Grocery Coupons,Care Organization,Coupon Organization,Extreme Couponing,Couponing 101,Life Binder,Save My Money,Love Coupons",
         "image",
         "https://i.pinimg.com/originals/65/bb/ea/65bbeaf458907bb079317d8303c4fa0e.jpg",
         1,
         "Local save in /data/finance",
         "finance"
        ],
        [
         8731,
         "ea760f71-febf-4023-b592-d17396659039",
         "20 Koi Fish Tattoos For Lucky Men",
         "Koi fish tattoos are a popular choice for men who want to make a statement, thanks to their rich symbolism and bold design.",
         "TheTrendSpotter",
         "211k",
         "Dr Tattoo,Wörter Tattoos,Pisces Tattoos,Tatoo Art,Dream Tattoos,Dope Tattoos,Mini Tattoos,Finger Tattoos,Body Art Tattoos",
         "image",
         "https://i.pinimg.com/originals/8a/0c/0a/8a0c0a7b6236565c519acd41ad1a52c0.jpg",
         1,
         "Local save in /data/tattoos",
         "tattoos"
        ]
       ],
       "datasetInfos": [],
       "dbfsResultPath": null,
       "isJsonSchema": true,
       "metadata": {
        "isDbfsCommandResult": false
       },
       "overflow": false,
       "plotOptions": {
        "customPlotOptions": {},
        "displayType": "table",
        "pivotAggregation": null,
        "pivotColumns": null,
        "xColumns": null,
        "yColumns": null
       },
       "removedWidgets": [],
       "schema": [
        {
         "metadata": "{}",
         "name": "index",
         "type": "\"integer\""
        },
        {
         "metadata": "{}",
         "name": "unique_id",
         "type": "\"string\""
        },
        {
         "metadata": "{}",
         "name": "title",
         "type": "\"string\""
        },
        {
         "metadata": "{}",
         "name": "description",
         "type": "\"string\""
        },
        {
         "metadata": "{}",
         "name": "poster_name",
         "type": "\"string\""
        },
        {
         "metadata": "{}",
         "name": "follower_count",
         "type": "\"string\""
        },
        {
         "metadata": "{}",
         "name": "tag_list",
         "type": "\"string\""
        },
        {
         "metadata": "{}",
         "name": "is_image_or_video",
         "type": "\"string\""
        },
        {
         "metadata": "{}",
         "name": "image_src",
         "type": "\"string\""
        },
        {
         "metadata": "{}",
         "name": "downloaded",
         "type": "\"integer\""
        },
        {
         "metadata": "{}",
         "name": "save_location",
         "type": "\"string\""
        },
        {
         "metadata": "{}",
         "name": "category",
         "type": "\"string\""
        }
       ],
       "type": "table"
      }
     },
     "output_type": "display_data"
    }
   ],
   "source": [
    "display(df_pin)"
   ]
  },
  {
   "cell_type": "code",
   "execution_count": 0,
   "metadata": {
    "application/vnd.databricks.v1+cell": {
     "cellMetadata": {
      "byteLimit": 2048000,
      "rowLimit": 10000
     },
     "inputWidgets": {},
     "nuid": "71dc4602-9eba-4163-a209-8670fe82acb2",
     "showTitle": false,
     "title": ""
    }
   },
   "outputs": [
    {
     "output_type": "display_data",
     "data": {
      "text/html": [
       "<style scoped>\n",
       "  .table-result-container {\n",
       "    max-height: 300px;\n",
       "    overflow: auto;\n",
       "  }\n",
       "  table, th, td {\n",
       "    border: 1px solid black;\n",
       "    border-collapse: collapse;\n",
       "  }\n",
       "  th, td {\n",
       "    padding: 5px;\n",
       "  }\n",
       "  th {\n",
       "    text-align: left;\n",
       "  }\n",
       "</style><div class='table-result-container'><table class='table-result'><thead style='background-color: white'><tr><th>ind</th><th>timestamp</th><th>latitude</th><th>longitude</th><th>country</th></tr></thead><tbody><tr><td>5730</td><td>2021-04-19T17:37:03.000+0000</td><td>-77.015</td><td>-101.437</td><td>Colombia</td></tr><tr><td>8304</td><td>2019-09-13T04:50:29.000+0000</td><td>-28.8852</td><td>-164.87</td><td>French Guiana</td></tr><tr><td>4315</td><td>2019-12-15T03:51:28.000+0000</td><td>-45.8508</td><td>66.1003</td><td>Cote d'Ivoire</td></tr><tr><td>5069</td><td>2021-03-20T09:32:44.000+0000</td><td>-63.0063</td><td>-157.474</td><td>Azerbaijan</td></tr><tr><td>2418</td><td>2022-05-27T11:30:59.000+0000</td><td>-88.4642</td><td>-171.061</td><td>Antarctica (the territory South of 60 deg S)</td></tr><tr><td>3156</td><td>2018-01-13T19:33:49.000+0000</td><td>-84.738</td><td>-160.795</td><td>Armenia</td></tr><tr><td>7343</td><td>2018-08-06T12:17:07.000+0000</td><td>-65.4428</td><td>-161.684</td><td>Australia</td></tr><tr><td>2074</td><td>2019-11-03T05:41:59.000+0000</td><td>-52.3213</td><td>-50.11</td><td>Central African Republic</td></tr><tr><td>2411</td><td>2020-11-15T17:10:07.000+0000</td><td>-71.6856</td><td>-179.126</td><td>Albania</td></tr><tr><td>2698</td><td>2021-11-24T08:33:51.000+0000</td><td>-72.7174</td><td>24.169</td><td>Egypt</td></tr><tr><td>5468</td><td>2020-05-16T23:17:50.000+0000</td><td>-83.544</td><td>33.9473</td><td>Isle of Man</td></tr><tr><td>719</td><td>2018-10-29T04:05:12.000+0000</td><td>-38.4062</td><td>-154.323</td><td>Armenia</td></tr><tr><td>808</td><td>2019-01-03T15:43:12.000+0000</td><td>-71.6856</td><td>-179.126</td><td>Albania</td></tr><tr><td>2293</td><td>2022-03-21T10:46:53.000+0000</td><td>-87.7946</td><td>-159.647</td><td>British Virgin Islands</td></tr><tr><td>1094</td><td>2018-08-19T00:34:20.000+0000</td><td>-46.7328</td><td>-124.445</td><td>Armenia</td></tr><tr><td>7528</td><td>2020-08-28T03:52:47.000+0000</td><td>-89.9787</td><td>-173.293</td><td>Albania</td></tr><tr><td>2863</td><td>2020-04-27T13:34:16.000+0000</td><td>-5.34445</td><td>-177.924</td><td>Armenia</td></tr><tr><td>5494</td><td>2021-07-21T02:02:35.000+0000</td><td>-82.6768</td><td>-129.202</td><td>Bulgaria</td></tr><tr><td>7554</td><td>2019-03-20T03:15:07.000+0000</td><td>-51.2172</td><td>-77.9768</td><td>Sudan</td></tr><tr><td>6145</td><td>2019-12-05T02:09:44.000+0000</td><td>-65.9079</td><td>-143.845</td><td>Mozambique</td></tr><tr><td>1014</td><td>2022-02-03T22:05:34.000+0000</td><td>81.1477</td><td>69.3538</td><td>Tonga</td></tr><tr><td>7166</td><td>2022-07-25T03:07:37.000+0000</td><td>-86.4063</td><td>-136.657</td><td>Aruba</td></tr><tr><td>831</td><td>2021-06-23T23:16:10.000+0000</td><td>-43.7816</td><td>-66.1592</td><td>Congo</td></tr><tr><td>5076</td><td>2019-05-05T16:22:23.000+0000</td><td>-70.7195</td><td>-91.1935</td><td>Germany</td></tr><tr><td>10663</td><td>2019-07-25T18:53:51.000+0000</td><td>-27.3474</td><td>-162.83</td><td>Saint Kitts and Nevis</td></tr><tr><td>205</td><td>2020-07-08T14:10:38.000+0000</td><td>-75.8378</td><td>-163.945</td><td>Barbados</td></tr><tr><td>2482</td><td>2019-09-13T08:20:13.000+0000</td><td>63.4563</td><td>-164.709</td><td>Bermuda</td></tr><tr><td>771</td><td>2018-06-21T08:42:57.000+0000</td><td>-29.1712</td><td>-107.111</td><td>Montserrat</td></tr><tr><td>4076</td><td>2019-06-07T20:13:50.000+0000</td><td>-67.2157</td><td>27.8139</td><td>Mauritania</td></tr><tr><td>2015</td><td>2018-09-22T13:52:19.000+0000</td><td>-17.629</td><td>-177.685</td><td>Armenia</td></tr><tr><td>8731</td><td>2020-07-17T04:39:09.000+0000</td><td>-83.104</td><td>-171.302</td><td>Aruba</td></tr><tr><td>1313</td><td>2018-06-26T02:39:25.000+0000</td><td>77.0447</td><td>61.9119</td><td>Maldives</td></tr><tr><td>10794</td><td>2022-01-01T02:26:50.000+0000</td><td>-89.5236</td><td>-154.567</td><td>Cocos (Keeling) Islands</td></tr><tr><td>3089</td><td>2018-02-28T05:31:29.000+0000</td><td>-89.9787</td><td>-173.293</td><td>Albania</td></tr><tr><td>6063</td><td>2021-07-20T09:02:47.000+0000</td><td>-89.1797</td><td>-174.015</td><td>Anguilla</td></tr><tr><td>10625</td><td>2018-07-13T11:51:15.000+0000</td><td>-84.4944</td><td>-81.0613</td><td>Jamaica</td></tr><tr><td>9979</td><td>2018-07-18T19:01:46.000+0000</td><td>14.9967</td><td>-120.682</td><td>Dominican Republic</td></tr><tr><td>10138</td><td>2019-08-03T00:59:29.000+0000</td><td>-72.142</td><td>-74.3545</td><td>Austria</td></tr><tr><td>9672</td><td>2019-11-03T13:15:52.000+0000</td><td>79.4658</td><td>-69.4133</td><td>India</td></tr><tr><td>8887</td><td>2021-09-19T05:27:43.000+0000</td><td>-28.0137</td><td>-160.708</td><td>Botswana</td></tr><tr><td>7922</td><td>2021-01-27T09:14:19.000+0000</td><td>-88.0974</td><td>-172.052</td><td>Antigua and Barbuda</td></tr><tr><td>9546</td><td>2018-02-10T06:16:40.000+0000</td><td>-70.0295</td><td>-155.428</td><td>Austria</td></tr><tr><td>9590</td><td>2019-05-20T19:48:48.000+0000</td><td>-64.3876</td><td>-174.281</td><td>Algeria</td></tr><tr><td>7790</td><td>2018-07-31T08:19:15.000+0000</td><td>-43.692</td><td>64.9839</td><td>Papua New Guinea</td></tr><tr><td>8606</td><td>2021-03-28T14:54:07.000+0000</td><td>-88.0974</td><td>-172.052</td><td>Antigua and Barbuda</td></tr><tr><td>1704</td><td>2018-11-29T04:46:39.000+0000</td><td>-56.8702</td><td>-93.6232</td><td>Christmas Island</td></tr><tr><td>1545</td><td>2022-06-17T05:47:12.000+0000</td><td>-30.18</td><td>-72.3784</td><td>Anguilla</td></tr><tr><td>2923</td><td>2019-09-08T22:53:09.000+0000</td><td>-84.6302</td><td>-164.507</td><td>Cote d'Ivoire</td></tr><tr><td>3454</td><td>2021-07-25T02:20:29.000+0000</td><td>-0.375174</td><td>49.8106</td><td>Cambodia</td></tr><tr><td>2959</td><td>2019-08-19T08:22:02.000+0000</td><td>-68.0095</td><td>-157.227</td><td>Angola</td></tr><tr><td>9875</td><td>2020-03-20T13:03:18.000+0000</td><td>-74.3382</td><td>-110.484</td><td>Barbados</td></tr><tr><td>428</td><td>2020-09-27T18:46:41.000+0000</td><td>-83.4105</td><td>-150.788</td><td>Bangladesh</td></tr><tr><td>8653</td><td>2022-04-11T18:30:19.000+0000</td><td>48.4569</td><td>-139.658</td><td>Seychelles</td></tr><tr><td>4913</td><td>2019-03-08T06:45:39.000+0000</td><td>-84.3768</td><td>-157.544</td><td>Aruba</td></tr><tr><td>4137</td><td>2019-06-23T22:16:34.000+0000</td><td>-55.3079</td><td>108.918</td><td>Australia</td></tr><tr><td>4508</td><td>2019-01-04T11:15:27.000+0000</td><td>69.1858</td><td>-76.0761</td><td>Philippines</td></tr><tr><td>9759</td><td>2017-12-30T13:05:49.000+0000</td><td>-77.9744</td><td>-106.258</td><td>American Samoa</td></tr><tr><td>8930</td><td>2021-09-29T13:25:49.000+0000</td><td>-89.4739</td><td>-176.154</td><td>Argentina</td></tr><tr><td>7294</td><td>2018-02-12T08:06:28.000+0000</td><td>-76.2967</td><td>-136.501</td><td>Australia</td></tr><tr><td>10509</td><td>2019-03-06T12:21:56.000+0000</td><td>-67.187</td><td>-24.2977</td><td>Gibraltar</td></tr></tbody></table></div>"
      ]
     },
     "metadata": {
      "application/vnd.databricks.v1+output": {
       "addedWidgets": {},
       "aggData": [],
       "aggError": "",
       "aggOverflow": false,
       "aggSchema": [],
       "aggSeriesLimitReached": false,
       "aggType": "",
       "arguments": {},
       "columnCustomDisplayInfos": {},
       "data": [
        [
         5730,
         "2021-04-19T17:37:03.000+0000",
         -77.015,
         -101.437,
         "Colombia"
        ],
        [
         8304,
         "2019-09-13T04:50:29.000+0000",
         -28.8852,
         -164.87,
         "French Guiana"
        ],
        [
         4315,
         "2019-12-15T03:51:28.000+0000",
         -45.8508,
         66.1003,
         "Cote d'Ivoire"
        ],
        [
         5069,
         "2021-03-20T09:32:44.000+0000",
         -63.0063,
         -157.474,
         "Azerbaijan"
        ],
        [
         2418,
         "2022-05-27T11:30:59.000+0000",
         -88.4642,
         -171.061,
         "Antarctica (the territory South of 60 deg S)"
        ],
        [
         3156,
         "2018-01-13T19:33:49.000+0000",
         -84.738,
         -160.795,
         "Armenia"
        ],
        [
         7343,
         "2018-08-06T12:17:07.000+0000",
         -65.4428,
         -161.684,
         "Australia"
        ],
        [
         2074,
         "2019-11-03T05:41:59.000+0000",
         -52.3213,
         -50.11,
         "Central African Republic"
        ],
        [
         2411,
         "2020-11-15T17:10:07.000+0000",
         -71.6856,
         -179.126,
         "Albania"
        ],
        [
         2698,
         "2021-11-24T08:33:51.000+0000",
         -72.7174,
         24.169,
         "Egypt"
        ],
        [
         5468,
         "2020-05-16T23:17:50.000+0000",
         -83.544,
         33.9473,
         "Isle of Man"
        ],
        [
         719,
         "2018-10-29T04:05:12.000+0000",
         -38.4062,
         -154.323,
         "Armenia"
        ],
        [
         808,
         "2019-01-03T15:43:12.000+0000",
         -71.6856,
         -179.126,
         "Albania"
        ],
        [
         2293,
         "2022-03-21T10:46:53.000+0000",
         -87.7946,
         -159.647,
         "British Virgin Islands"
        ],
        [
         1094,
         "2018-08-19T00:34:20.000+0000",
         -46.7328,
         -124.445,
         "Armenia"
        ],
        [
         7528,
         "2020-08-28T03:52:47.000+0000",
         -89.9787,
         -173.293,
         "Albania"
        ],
        [
         2863,
         "2020-04-27T13:34:16.000+0000",
         -5.34445,
         -177.924,
         "Armenia"
        ],
        [
         5494,
         "2021-07-21T02:02:35.000+0000",
         -82.6768,
         -129.202,
         "Bulgaria"
        ],
        [
         7554,
         "2019-03-20T03:15:07.000+0000",
         -51.2172,
         -77.9768,
         "Sudan"
        ],
        [
         6145,
         "2019-12-05T02:09:44.000+0000",
         -65.9079,
         -143.845,
         "Mozambique"
        ],
        [
         1014,
         "2022-02-03T22:05:34.000+0000",
         81.1477,
         69.3538,
         "Tonga"
        ],
        [
         7166,
         "2022-07-25T03:07:37.000+0000",
         -86.4063,
         -136.657,
         "Aruba"
        ],
        [
         831,
         "2021-06-23T23:16:10.000+0000",
         -43.7816,
         -66.1592,
         "Congo"
        ],
        [
         5076,
         "2019-05-05T16:22:23.000+0000",
         -70.7195,
         -91.1935,
         "Germany"
        ],
        [
         10663,
         "2019-07-25T18:53:51.000+0000",
         -27.3474,
         -162.83,
         "Saint Kitts and Nevis"
        ],
        [
         205,
         "2020-07-08T14:10:38.000+0000",
         -75.8378,
         -163.945,
         "Barbados"
        ],
        [
         2482,
         "2019-09-13T08:20:13.000+0000",
         63.4563,
         -164.709,
         "Bermuda"
        ],
        [
         771,
         "2018-06-21T08:42:57.000+0000",
         -29.1712,
         -107.111,
         "Montserrat"
        ],
        [
         4076,
         "2019-06-07T20:13:50.000+0000",
         -67.2157,
         27.8139,
         "Mauritania"
        ],
        [
         2015,
         "2018-09-22T13:52:19.000+0000",
         -17.629,
         -177.685,
         "Armenia"
        ],
        [
         8731,
         "2020-07-17T04:39:09.000+0000",
         -83.104,
         -171.302,
         "Aruba"
        ],
        [
         1313,
         "2018-06-26T02:39:25.000+0000",
         77.0447,
         61.9119,
         "Maldives"
        ],
        [
         10794,
         "2022-01-01T02:26:50.000+0000",
         -89.5236,
         -154.567,
         "Cocos (Keeling) Islands"
        ],
        [
         3089,
         "2018-02-28T05:31:29.000+0000",
         -89.9787,
         -173.293,
         "Albania"
        ],
        [
         6063,
         "2021-07-20T09:02:47.000+0000",
         -89.1797,
         -174.015,
         "Anguilla"
        ],
        [
         10625,
         "2018-07-13T11:51:15.000+0000",
         -84.4944,
         -81.0613,
         "Jamaica"
        ],
        [
         9979,
         "2018-07-18T19:01:46.000+0000",
         14.9967,
         -120.682,
         "Dominican Republic"
        ],
        [
         10138,
         "2019-08-03T00:59:29.000+0000",
         -72.142,
         -74.3545,
         "Austria"
        ],
        [
         9672,
         "2019-11-03T13:15:52.000+0000",
         79.4658,
         -69.4133,
         "India"
        ],
        [
         8887,
         "2021-09-19T05:27:43.000+0000",
         -28.0137,
         -160.708,
         "Botswana"
        ],
        [
         7922,
         "2021-01-27T09:14:19.000+0000",
         -88.0974,
         -172.052,
         "Antigua and Barbuda"
        ],
        [
         9546,
         "2018-02-10T06:16:40.000+0000",
         -70.0295,
         -155.428,
         "Austria"
        ],
        [
         9590,
         "2019-05-20T19:48:48.000+0000",
         -64.3876,
         -174.281,
         "Algeria"
        ],
        [
         7790,
         "2018-07-31T08:19:15.000+0000",
         -43.692,
         64.9839,
         "Papua New Guinea"
        ],
        [
         8606,
         "2021-03-28T14:54:07.000+0000",
         -88.0974,
         -172.052,
         "Antigua and Barbuda"
        ],
        [
         1704,
         "2018-11-29T04:46:39.000+0000",
         -56.8702,
         -93.6232,
         "Christmas Island"
        ],
        [
         1545,
         "2022-06-17T05:47:12.000+0000",
         -30.18,
         -72.3784,
         "Anguilla"
        ],
        [
         2923,
         "2019-09-08T22:53:09.000+0000",
         -84.6302,
         -164.507,
         "Cote d'Ivoire"
        ],
        [
         3454,
         "2021-07-25T02:20:29.000+0000",
         -0.375174,
         49.8106,
         "Cambodia"
        ],
        [
         2959,
         "2019-08-19T08:22:02.000+0000",
         -68.0095,
         -157.227,
         "Angola"
        ],
        [
         9875,
         "2020-03-20T13:03:18.000+0000",
         -74.3382,
         -110.484,
         "Barbados"
        ],
        [
         428,
         "2020-09-27T18:46:41.000+0000",
         -83.4105,
         -150.788,
         "Bangladesh"
        ],
        [
         8653,
         "2022-04-11T18:30:19.000+0000",
         48.4569,
         -139.658,
         "Seychelles"
        ],
        [
         4913,
         "2019-03-08T06:45:39.000+0000",
         -84.3768,
         -157.544,
         "Aruba"
        ],
        [
         4137,
         "2019-06-23T22:16:34.000+0000",
         -55.3079,
         108.918,
         "Australia"
        ],
        [
         4508,
         "2019-01-04T11:15:27.000+0000",
         69.1858,
         -76.0761,
         "Philippines"
        ],
        [
         9759,
         "2017-12-30T13:05:49.000+0000",
         -77.9744,
         -106.258,
         "American Samoa"
        ],
        [
         8930,
         "2021-09-29T13:25:49.000+0000",
         -89.4739,
         -176.154,
         "Argentina"
        ],
        [
         7294,
         "2018-02-12T08:06:28.000+0000",
         -76.2967,
         -136.501,
         "Australia"
        ],
        [
         10509,
         "2019-03-06T12:21:56.000+0000",
         -67.187,
         -24.2977,
         "Gibraltar"
        ]
       ],
       "datasetInfos": [],
       "dbfsResultPath": null,
       "isJsonSchema": true,
       "metadata": {
        "isDbfsCommandResult": false
       },
       "overflow": false,
       "plotOptions": {
        "customPlotOptions": {},
        "displayType": "table",
        "pivotAggregation": null,
        "pivotColumns": null,
        "xColumns": null,
        "yColumns": null
       },
       "removedWidgets": [],
       "schema": [
        {
         "metadata": "{}",
         "name": "ind",
         "type": "\"integer\""
        },
        {
         "metadata": "{}",
         "name": "timestamp",
         "type": "\"timestamp\""
        },
        {
         "metadata": "{}",
         "name": "latitude",
         "type": "\"float\""
        },
        {
         "metadata": "{}",
         "name": "longitude",
         "type": "\"float\""
        },
        {
         "metadata": "{}",
         "name": "country",
         "type": "\"string\""
        }
       ],
       "type": "table"
      }
     },
     "output_type": "display_data"
    }
   ],
   "source": [
    "display(df_geo)"
   ]
  },
  {
   "cell_type": "code",
   "execution_count": 0,
   "metadata": {
    "application/vnd.databricks.v1+cell": {
     "cellMetadata": {
      "byteLimit": 2048000,
      "rowLimit": 10000
     },
     "inputWidgets": {},
     "nuid": "31c2ce38-5401-468c-a483-26af48b48757",
     "showTitle": false,
     "title": ""
    }
   },
   "outputs": [
    {
     "output_type": "display_data",
     "data": {
      "text/html": [
       "<style scoped>\n",
       "  .table-result-container {\n",
       "    max-height: 300px;\n",
       "    overflow: auto;\n",
       "  }\n",
       "  table, th, td {\n",
       "    border: 1px solid black;\n",
       "    border-collapse: collapse;\n",
       "  }\n",
       "  th, td {\n",
       "    padding: 5px;\n",
       "  }\n",
       "  th {\n",
       "    text-align: left;\n",
       "  }\n",
       "</style><div class='table-result-container'><table class='table-result'><thead style='background-color: white'><tr><th>ind</th><th>first_name</th><th>last_name</th><th>age</th><th>date_joined</th></tr></thead><tbody><tr><td>5494</td><td>Anne</td><td>Allen</td><td>27</td><td>2015-12-16T15:20:05.000+0000</td></tr><tr><td>2923</td><td>Brian</td><td>Nelson</td><td>26</td><td>2015-11-11T03:20:57.000+0000</td></tr><tr><td>9875</td><td>Brendan</td><td>Joseph</td><td>26</td><td>2015-12-20T10:28:00.000+0000</td></tr><tr><td>2418</td><td>Amanda</td><td>Adams</td><td>20</td><td>2015-10-21T08:27:36.000+0000</td></tr><tr><td>3156</td><td>Andrew</td><td>Baker</td><td>22</td><td>2015-12-21T08:06:54.000+0000</td></tr><tr><td>9672</td><td>Jennifer</td><td>Hudson</td><td>22</td><td>2016-02-11T20:46:04.000+0000</td></tr><tr><td>7922</td><td>Denise</td><td>Adams</td><td>21</td><td>2015-11-12T06:21:36.000+0000</td></tr><tr><td>4137</td><td>Michael</td><td>Decker</td><td>59</td><td>2017-06-29T22:35:17.000+0000</td></tr><tr><td>9546</td><td>Alex</td><td>Barnes</td><td>20</td><td>2016-02-27T21:13:44.000+0000</td></tr><tr><td>2698</td><td>Kayla</td><td>Burton</td><td>44</td><td>2017-06-21T19:53:27.000+0000</td></tr><tr><td>4508</td><td>Michael</td><td>Carter</td><td>58</td><td>2016-06-03T23:35:30.000+0000</td></tr><tr><td>8930</td><td>Andrew</td><td>Anderson</td><td>23</td><td>2015-11-28T11:52:37.000+0000</td></tr><tr><td>808</td><td>Aaron</td><td>Bartlett</td><td>21</td><td>2015-11-24T02:15:36.000+0000</td></tr><tr><td>4076</td><td>Larry</td><td>Pineda</td><td>20</td><td>2015-10-23T22:47:39.000+0000</td></tr><tr><td>1545</td><td>Jonathan</td><td>Avila</td><td>46</td><td>2015-11-27T23:11:21.000+0000</td></tr><tr><td>2293</td><td>Alex</td><td>Bean</td><td>24</td><td>2016-01-11T23:08:27.000+0000</td></tr><tr><td>10509</td><td>Brittany</td><td>Thompson</td><td>49</td><td>2016-04-22T20:36:02.000+0000</td></tr><tr><td>2863</td><td>Dylan</td><td>Holmes</td><td>32</td><td>2016-10-23T14:06:51.000+0000</td></tr><tr><td>10794</td><td>Thomas</td><td>Turner</td><td>34</td><td>2016-12-22T00:02:02.000+0000</td></tr><tr><td>6145</td><td>Emily</td><td>Hawkins</td><td>30</td><td>2015-12-25T20:24:37.000+0000</td></tr><tr><td>10625</td><td>Christian</td><td>Lang</td><td>32</td><td>2017-10-10T20:09:33.000+0000</td></tr><tr><td>2959</td><td>David</td><td>Griffith</td><td>20</td><td>2016-01-07T19:49:22.000+0000</td></tr><tr><td>2074</td><td>Annette</td><td>Forbes</td><td>21</td><td>2016-01-03T15:42:12.000+0000</td></tr><tr><td>8653</td><td>Tammy</td><td>Davis</td><td>24</td><td>2016-03-09T10:48:14.000+0000</td></tr><tr><td>8887</td><td>Austin</td><td>Rodriguez</td><td>24</td><td>2016-03-31T20:56:39.000+0000</td></tr><tr><td>2411</td><td>Aaron</td><td>Bartlett</td><td>21</td><td>2015-11-24T02:15:36.000+0000</td></tr><tr><td>9590</td><td>Amanda</td><td>Allen</td><td>22</td><td>2015-10-24T18:56:30.000+0000</td></tr><tr><td>831</td><td>Aimee</td><td>Collins</td><td>28</td><td>2016-06-16T02:06:38.000+0000</td></tr><tr><td>7790</td><td>Michelle</td><td>Gutierrez</td><td>39</td><td>2017-07-19T07:12:04.000+0000</td></tr><tr><td>719</td><td>Alicia</td><td>Avila</td><td>20</td><td>2016-01-26T01:49:23.000+0000</td></tr><tr><td>2482</td><td>David</td><td>Moss</td><td>22</td><td>2016-03-01T07:11:48.000+0000</td></tr><tr><td>2015</td><td>Christopher</td><td>Bradshaw</td><td>27</td><td>2016-03-08T13:38:37.000+0000</td></tr><tr><td>1094</td><td>Ann</td><td>Elliott</td><td>20</td><td>2016-07-02T02:32:30.000+0000</td></tr><tr><td>7528</td><td>Abigail</td><td>Ali</td><td>20</td><td>2015-10-24T11:23:51.000+0000</td></tr><tr><td>4315</td><td>Michelle</td><td>Prince</td><td>36</td><td>2015-12-20T16:38:13.000+0000</td></tr><tr><td>6063</td><td>Corey</td><td>Andrews</td><td>23</td><td>2015-11-25T13:36:22.000+0000</td></tr><tr><td>7554</td><td>Cheryl</td><td>Huerta</td><td>20</td><td>2017-04-11T16:35:33.000+0000</td></tr><tr><td>7343</td><td>Anne</td><td>Clayton</td><td>24</td><td>2016-01-11T12:03:48.000+0000</td></tr><tr><td>9979</td><td>Kaylee</td><td>Miller</td><td>31</td><td>2016-11-09T19:50:51.000+0000</td></tr><tr><td>10138</td><td>Carol</td><td>Silva</td><td>22</td><td>2015-12-31T14:57:02.000+0000</td></tr><tr><td>1014</td><td>Gregory</td><td>Ramsey</td><td>56</td><td>2016-10-15T17:21:39.000+0000</td></tr><tr><td>4913</td><td>Angela</td><td>Brooks</td><td>24</td><td>2015-11-20T05:37:11.000+0000</td></tr><tr><td>7166</td><td>Alvin</td><td>Adams</td><td>20</td><td>2016-01-01T13:50:40.000+0000</td></tr><tr><td>5076</td><td>Christopher</td><td>Butler</td><td>20</td><td>2015-12-01T15:08:31.000+0000</td></tr><tr><td>8606</td><td>Denise</td><td>Adams</td><td>21</td><td>2015-11-12T06:21:36.000+0000</td></tr><tr><td>7294</td><td>Dawn</td><td>Anderson</td><td>20</td><td>2016-12-31T00:06:36.000+0000</td></tr><tr><td>5730</td><td>Rachel</td><td>Davis</td><td>36</td><td>2015-12-08T20:02:43.000+0000</td></tr><tr><td>8304</td><td>Charles</td><td>Berry</td><td>25</td><td>2015-12-28T04:21:39.000+0000</td></tr><tr><td>8731</td><td>Andrea</td><td>Alexander</td><td>21</td><td>2015-11-10T09:27:42.000+0000</td></tr><tr><td>1313</td><td>Brittany</td><td>Jones</td><td>32</td><td>2016-04-02T03:51:23.000+0000</td></tr><tr><td>5069</td><td>Amanda</td><td>Ball</td><td>25</td><td>2016-01-13T17:36:30.000+0000</td></tr><tr><td>3089</td><td>Abigail</td><td>Ali</td><td>20</td><td>2015-10-24T11:23:51.000+0000</td></tr><tr><td>3454</td><td>Robert</td><td>Murphy</td><td>48</td><td>2017-09-26T16:31:56.000+0000</td></tr><tr><td>428</td><td>Claudia</td><td>Adams</td><td>20</td><td>2015-11-28T02:20:29.000+0000</td></tr><tr><td>10663</td><td>Julie</td><td>Cox</td><td>23</td><td>2016-06-23T14:38:00.000+0000</td></tr><tr><td>5468</td><td>Lisa</td><td>Gamble</td><td>20</td><td>2016-07-23T20:51:06.000+0000</td></tr><tr><td>205</td><td>Brett</td><td>Bryant</td><td>20</td><td>2015-10-23T12:40:19.000+0000</td></tr><tr><td>9759</td><td>Daniel</td><td>Brooks</td><td>25</td><td>2015-11-19T21:24:33.000+0000</td></tr><tr><td>1704</td><td>Barry</td><td>Lynn</td><td>20</td><td>2015-10-28T05:00:33.000+0000</td></tr><tr><td>771</td><td>Brittany</td><td>Butler</td><td>32</td><td>2016-03-10T04:11:31.000+0000</td></tr></tbody></table></div>"
      ]
     },
     "metadata": {
      "application/vnd.databricks.v1+output": {
       "addedWidgets": {},
       "aggData": [],
       "aggError": "",
       "aggOverflow": false,
       "aggSchema": [],
       "aggSeriesLimitReached": false,
       "aggType": "",
       "arguments": {},
       "columnCustomDisplayInfos": {},
       "data": [
        [
         5494,
         "Anne",
         "Allen",
         "27",
         "2015-12-16T15:20:05.000+0000"
        ],
        [
         2923,
         "Brian",
         "Nelson",
         "26",
         "2015-11-11T03:20:57.000+0000"
        ],
        [
         9875,
         "Brendan",
         "Joseph",
         "26",
         "2015-12-20T10:28:00.000+0000"
        ],
        [
         2418,
         "Amanda",
         "Adams",
         "20",
         "2015-10-21T08:27:36.000+0000"
        ],
        [
         3156,
         "Andrew",
         "Baker",
         "22",
         "2015-12-21T08:06:54.000+0000"
        ],
        [
         9672,
         "Jennifer",
         "Hudson",
         "22",
         "2016-02-11T20:46:04.000+0000"
        ],
        [
         7922,
         "Denise",
         "Adams",
         "21",
         "2015-11-12T06:21:36.000+0000"
        ],
        [
         4137,
         "Michael",
         "Decker",
         "59",
         "2017-06-29T22:35:17.000+0000"
        ],
        [
         9546,
         "Alex",
         "Barnes",
         "20",
         "2016-02-27T21:13:44.000+0000"
        ],
        [
         2698,
         "Kayla",
         "Burton",
         "44",
         "2017-06-21T19:53:27.000+0000"
        ],
        [
         4508,
         "Michael",
         "Carter",
         "58",
         "2016-06-03T23:35:30.000+0000"
        ],
        [
         8930,
         "Andrew",
         "Anderson",
         "23",
         "2015-11-28T11:52:37.000+0000"
        ],
        [
         808,
         "Aaron",
         "Bartlett",
         "21",
         "2015-11-24T02:15:36.000+0000"
        ],
        [
         4076,
         "Larry",
         "Pineda",
         "20",
         "2015-10-23T22:47:39.000+0000"
        ],
        [
         1545,
         "Jonathan",
         "Avila",
         "46",
         "2015-11-27T23:11:21.000+0000"
        ],
        [
         2293,
         "Alex",
         "Bean",
         "24",
         "2016-01-11T23:08:27.000+0000"
        ],
        [
         10509,
         "Brittany",
         "Thompson",
         "49",
         "2016-04-22T20:36:02.000+0000"
        ],
        [
         2863,
         "Dylan",
         "Holmes",
         "32",
         "2016-10-23T14:06:51.000+0000"
        ],
        [
         10794,
         "Thomas",
         "Turner",
         "34",
         "2016-12-22T00:02:02.000+0000"
        ],
        [
         6145,
         "Emily",
         "Hawkins",
         "30",
         "2015-12-25T20:24:37.000+0000"
        ],
        [
         10625,
         "Christian",
         "Lang",
         "32",
         "2017-10-10T20:09:33.000+0000"
        ],
        [
         2959,
         "David",
         "Griffith",
         "20",
         "2016-01-07T19:49:22.000+0000"
        ],
        [
         2074,
         "Annette",
         "Forbes",
         "21",
         "2016-01-03T15:42:12.000+0000"
        ],
        [
         8653,
         "Tammy",
         "Davis",
         "24",
         "2016-03-09T10:48:14.000+0000"
        ],
        [
         8887,
         "Austin",
         "Rodriguez",
         "24",
         "2016-03-31T20:56:39.000+0000"
        ],
        [
         2411,
         "Aaron",
         "Bartlett",
         "21",
         "2015-11-24T02:15:36.000+0000"
        ],
        [
         9590,
         "Amanda",
         "Allen",
         "22",
         "2015-10-24T18:56:30.000+0000"
        ],
        [
         831,
         "Aimee",
         "Collins",
         "28",
         "2016-06-16T02:06:38.000+0000"
        ],
        [
         7790,
         "Michelle",
         "Gutierrez",
         "39",
         "2017-07-19T07:12:04.000+0000"
        ],
        [
         719,
         "Alicia",
         "Avila",
         "20",
         "2016-01-26T01:49:23.000+0000"
        ],
        [
         2482,
         "David",
         "Moss",
         "22",
         "2016-03-01T07:11:48.000+0000"
        ],
        [
         2015,
         "Christopher",
         "Bradshaw",
         "27",
         "2016-03-08T13:38:37.000+0000"
        ],
        [
         1094,
         "Ann",
         "Elliott",
         "20",
         "2016-07-02T02:32:30.000+0000"
        ],
        [
         7528,
         "Abigail",
         "Ali",
         "20",
         "2015-10-24T11:23:51.000+0000"
        ],
        [
         4315,
         "Michelle",
         "Prince",
         "36",
         "2015-12-20T16:38:13.000+0000"
        ],
        [
         6063,
         "Corey",
         "Andrews",
         "23",
         "2015-11-25T13:36:22.000+0000"
        ],
        [
         7554,
         "Cheryl",
         "Huerta",
         "20",
         "2017-04-11T16:35:33.000+0000"
        ],
        [
         7343,
         "Anne",
         "Clayton",
         "24",
         "2016-01-11T12:03:48.000+0000"
        ],
        [
         9979,
         "Kaylee",
         "Miller",
         "31",
         "2016-11-09T19:50:51.000+0000"
        ],
        [
         10138,
         "Carol",
         "Silva",
         "22",
         "2015-12-31T14:57:02.000+0000"
        ],
        [
         1014,
         "Gregory",
         "Ramsey",
         "56",
         "2016-10-15T17:21:39.000+0000"
        ],
        [
         4913,
         "Angela",
         "Brooks",
         "24",
         "2015-11-20T05:37:11.000+0000"
        ],
        [
         7166,
         "Alvin",
         "Adams",
         "20",
         "2016-01-01T13:50:40.000+0000"
        ],
        [
         5076,
         "Christopher",
         "Butler",
         "20",
         "2015-12-01T15:08:31.000+0000"
        ],
        [
         8606,
         "Denise",
         "Adams",
         "21",
         "2015-11-12T06:21:36.000+0000"
        ],
        [
         7294,
         "Dawn",
         "Anderson",
         "20",
         "2016-12-31T00:06:36.000+0000"
        ],
        [
         5730,
         "Rachel",
         "Davis",
         "36",
         "2015-12-08T20:02:43.000+0000"
        ],
        [
         8304,
         "Charles",
         "Berry",
         "25",
         "2015-12-28T04:21:39.000+0000"
        ],
        [
         8731,
         "Andrea",
         "Alexander",
         "21",
         "2015-11-10T09:27:42.000+0000"
        ],
        [
         1313,
         "Brittany",
         "Jones",
         "32",
         "2016-04-02T03:51:23.000+0000"
        ],
        [
         5069,
         "Amanda",
         "Ball",
         "25",
         "2016-01-13T17:36:30.000+0000"
        ],
        [
         3089,
         "Abigail",
         "Ali",
         "20",
         "2015-10-24T11:23:51.000+0000"
        ],
        [
         3454,
         "Robert",
         "Murphy",
         "48",
         "2017-09-26T16:31:56.000+0000"
        ],
        [
         428,
         "Claudia",
         "Adams",
         "20",
         "2015-11-28T02:20:29.000+0000"
        ],
        [
         10663,
         "Julie",
         "Cox",
         "23",
         "2016-06-23T14:38:00.000+0000"
        ],
        [
         5468,
         "Lisa",
         "Gamble",
         "20",
         "2016-07-23T20:51:06.000+0000"
        ],
        [
         205,
         "Brett",
         "Bryant",
         "20",
         "2015-10-23T12:40:19.000+0000"
        ],
        [
         9759,
         "Daniel",
         "Brooks",
         "25",
         "2015-11-19T21:24:33.000+0000"
        ],
        [
         1704,
         "Barry",
         "Lynn",
         "20",
         "2015-10-28T05:00:33.000+0000"
        ],
        [
         771,
         "Brittany",
         "Butler",
         "32",
         "2016-03-10T04:11:31.000+0000"
        ]
       ],
       "datasetInfos": [],
       "dbfsResultPath": null,
       "isJsonSchema": true,
       "metadata": {
        "isDbfsCommandResult": false
       },
       "overflow": false,
       "plotOptions": {
        "customPlotOptions": {},
        "displayType": "table",
        "pivotAggregation": null,
        "pivotColumns": null,
        "xColumns": null,
        "yColumns": null
       },
       "removedWidgets": [],
       "schema": [
        {
         "metadata": "{}",
         "name": "ind",
         "type": "\"integer\""
        },
        {
         "metadata": "{}",
         "name": "first_name",
         "type": "\"string\""
        },
        {
         "metadata": "{}",
         "name": "last_name",
         "type": "\"string\""
        },
        {
         "metadata": "{}",
         "name": "age",
         "type": "\"string\""
        },
        {
         "metadata": "{}",
         "name": "date_joined",
         "type": "\"timestamp\""
        }
       ],
       "type": "table"
      }
     },
     "output_type": "display_data"
    }
   ],
   "source": [
    "display(df_user)"
   ]
  },
  {
   "cell_type": "code",
   "execution_count": 0,
   "metadata": {
    "application/vnd.databricks.v1+cell": {
     "cellMetadata": {
      "byteLimit": 2048000,
      "rowLimit": 10000
     },
     "inputWidgets": {},
     "nuid": "5a4816ac-0b28-4a67-a717-6f49d4685c06",
     "showTitle": false,
     "title": ""
    }
   },
   "outputs": [
    {
     "output_type": "display_data",
     "data": {
      "text/html": [
       "<style scoped>\n",
       "  .ansiout {\n",
       "    display: block;\n",
       "    unicode-bidi: embed;\n",
       "    white-space: pre-wrap;\n",
       "    word-wrap: break-word;\n",
       "    word-break: break-all;\n",
       "    font-family: \"Menlo\", \"Monaco\", \"Consolas\", \"Ubuntu Mono\", \"Source Code Pro\", monospace;\n",
       "    font-size: 13px;\n",
       "    color: #555;\n",
       "    margin-left: 4px;\n",
       "    line-height: 19px;\n",
       "  }\n",
       "</style>\n",
       "<div class=\"ansiout\"></div>"
      ]
     },
     "metadata": {
      "application/vnd.databricks.v1+output": {
       "addedWidgets": {},
       "arguments": {},
       "data": "<div class=\"ansiout\"></div>",
       "datasetInfos": [],
       "metadata": {},
       "removedWidgets": [],
       "type": "html"
      }
     },
     "output_type": "display_data"
    }
   ],
   "source": [
    "cleaned_df_pin = clean_dataframe_pin(df_pin)\n",
    "cleaned_df_geo = clean_dataframe_geo(df_geo)\n",
    "cleaned_df_user = clean_dataframe_user(df_user)"
   ]
  },
  {
   "cell_type": "markdown",
   "metadata": {
    "application/vnd.databricks.v1+cell": {
     "cellMetadata": {},
     "inputWidgets": {},
     "nuid": "f8460d54-a872-4605-94c2-d11f3cdc9758",
     "showTitle": false,
     "title": ""
    }
   },
   "source": [
    "#Write data to Delta tables"
   ]
  },
  {
   "cell_type": "code",
   "execution_count": 0,
   "metadata": {
    "application/vnd.databricks.v1+cell": {
     "cellMetadata": {
      "byteLimit": 2048000,
      "rowLimit": 10000
     },
     "inputWidgets": {},
     "nuid": "9efe11fb-6aeb-4d2e-91f5-2bf7e3dfceab",
     "showTitle": false,
     "title": ""
    }
   },
   "outputs": [
    {
     "output_type": "display_data",
     "data": {
      "text/html": [
       "<style scoped>\n",
       "  .ansiout {\n",
       "    display: block;\n",
       "    unicode-bidi: embed;\n",
       "    white-space: pre-wrap;\n",
       "    word-wrap: break-word;\n",
       "    word-break: break-all;\n",
       "    font-family: \"Menlo\", \"Monaco\", \"Consolas\", \"Ubuntu Mono\", \"Source Code Pro\", monospace;\n",
       "    font-size: 13px;\n",
       "    color: #555;\n",
       "    margin-left: 4px;\n",
       "    line-height: 19px;\n",
       "  }\n",
       "</style>\n",
       "<div class=\"ansiout\"></div>"
      ]
     },
     "metadata": {
      "application/vnd.databricks.v1+output": {
       "addedWidgets": {},
       "arguments": {},
       "data": "<div class=\"ansiout\"></div>",
       "datasetInfos": [],
       "metadata": {},
       "removedWidgets": [],
       "type": "html"
      }
     },
     "output_type": "display_data"
    }
   ],
   "source": [
    "# Write the cleaned DataFrames to a Delta table\n",
    "write_stream_df_to_table(cleaned_df_pin, \"0ae9e110c9db_pin_table\")\n",
    "write_stream_df_to_table(cleaned_df_geo, \"0ae9e110c9db_geo_table\")\n",
    "write_stream_df_to_table(cleaned_df_user, \"0ae9e110c9db_user_table\")\n",
    "\n",
    "# Comments:\n",
    "# - Each function call writes the corresponding cleaned DataFrame to a Delta table.\n",
    "# - The first argument is the cleaned DataFrame to be written.\n",
    "# - The second argument is the name of the Delta table where the DataFrame will be stored."
   ]
  }
 ],
 "metadata": {
  "application/vnd.databricks.v1+notebook": {
   "dashboards": [],
   "language": "python",
   "notebookMetadata": {
    "mostRecentlyExecutedCommandWithImplicitDF": {
     "commandId": 187152705347702,
     "dataframes": [
      "_sqldf"
     ]
    },
    "pythonIndentUnit": 4
   },
   "notebookName": "Kinesis_Streaming_Data",
   "widgets": {}
  }
 },
 "nbformat": 4,
 "nbformat_minor": 0
}
