{
 "cells": [
  {
   "cell_type": "code",
   "execution_count": 0,
   "metadata": {
    "application/vnd.databricks.v1+cell": {
     "cellMetadata": {
      "byteLimit": 2048000,
      "rowLimit": 10000
     },
     "inputWidgets": {},
     "nuid": "e33a6e14-0613-4b7b-baa7-98faaec7ff38",
     "showTitle": false,
     "title": ""
    }
   },
   "outputs": [
    {
     "output_type": "display_data",
     "data": {
      "text/html": [
       "<style scoped>\n",
       "  .ansiout {\n",
       "    display: block;\n",
       "    unicode-bidi: embed;\n",
       "    white-space: pre-wrap;\n",
       "    word-wrap: break-word;\n",
       "    word-break: break-all;\n",
       "    font-family: \"Menlo\", \"Monaco\", \"Consolas\", \"Ubuntu Mono\", \"Source Code Pro\", monospace;\n",
       "    font-size: 13px;\n",
       "    color: #555;\n",
       "    margin-left: 4px;\n",
       "    line-height: 19px;\n",
       "  }\n",
       "</style>\n",
       "<div class=\"ansiout\"></div>"
      ]
     },
     "metadata": {
      "application/vnd.databricks.v1+output": {
       "addedWidgets": {},
       "arguments": {},
       "data": "<div class=\"ansiout\"></div>",
       "datasetInfos": [],
       "metadata": {},
       "removedWidgets": [],
       "type": "html"
      }
     },
     "output_type": "display_data"
    },
    {
     "output_type": "display_data",
     "data": {
      "text/html": [
       "<style scoped>\n",
       "  .ansiout {\n",
       "    display: block;\n",
       "    unicode-bidi: embed;\n",
       "    white-space: pre-wrap;\n",
       "    word-wrap: break-word;\n",
       "    word-break: break-all;\n",
       "    font-family: \"Menlo\", \"Monaco\", \"Consolas\", \"Ubuntu Mono\", \"Source Code Pro\", monospace;\n",
       "    font-size: 13px;\n",
       "    color: #555;\n",
       "    margin-left: 4px;\n",
       "    line-height: 19px;\n",
       "  }\n",
       "</style>\n",
       "<div class=\"ansiout\"></div>"
      ]
     },
     "metadata": {
      "application/vnd.databricks.v1+output": {
       "addedWidgets": {},
       "arguments": {},
       "data": "<div class=\"ansiout\"></div>",
       "datasetInfos": [],
       "metadata": {},
       "removedWidgets": [],
       "type": "html"
      }
     },
     "output_type": "display_data"
    },
    {
     "output_type": "display_data",
     "data": {
      "text/html": [
       "<style scoped>\n",
       "  .ansiout {\n",
       "    display: block;\n",
       "    unicode-bidi: embed;\n",
       "    white-space: pre-wrap;\n",
       "    word-wrap: break-word;\n",
       "    word-break: break-all;\n",
       "    font-family: \"Menlo\", \"Monaco\", \"Consolas\", \"Ubuntu Mono\", \"Source Code Pro\", monospace;\n",
       "    font-size: 13px;\n",
       "    color: #555;\n",
       "    margin-left: 4px;\n",
       "    line-height: 19px;\n",
       "  }\n",
       "</style>\n",
       "<div class=\"ansiout\"></div>"
      ]
     },
     "metadata": {
      "application/vnd.databricks.v1+output": {
       "addedWidgets": {},
       "arguments": {},
       "data": "<div class=\"ansiout\"></div>",
       "datasetInfos": [],
       "metadata": {},
       "removedWidgets": [],
       "type": "html"
      }
     },
     "output_type": "display_data"
    }
   ],
   "source": [
    "%run /Users/josephbabaloladavies@gmail.com/Clean_Data_Batch"
   ]
  },
  {
   "cell_type": "markdown",
   "metadata": {
    "application/vnd.databricks.v1+cell": {
     "cellMetadata": {},
     "inputWidgets": {},
     "nuid": "21947e96-df38-4efd-ae3e-3c431b314c23",
     "showTitle": false,
     "title": ""
    }
   },
   "source": [
    "# Imports"
   ]
  },
  {
   "cell_type": "code",
   "execution_count": 0,
   "metadata": {
    "application/vnd.databricks.v1+cell": {
     "cellMetadata": {
      "byteLimit": 2048000,
      "rowLimit": 10000
     },
     "inputWidgets": {},
     "nuid": "75b3f503-aaa9-4025-a3c4-991d5a13a59a",
     "showTitle": false,
     "title": ""
    }
   },
   "outputs": [
    {
     "output_type": "display_data",
     "data": {
      "text/html": [
       "<style scoped>\n",
       "  .ansiout {\n",
       "    display: block;\n",
       "    unicode-bidi: embed;\n",
       "    white-space: pre-wrap;\n",
       "    word-wrap: break-word;\n",
       "    word-break: break-all;\n",
       "    font-family: \"Menlo\", \"Monaco\", \"Consolas\", \"Ubuntu Mono\", \"Source Code Pro\", monospace;\n",
       "    font-size: 13px;\n",
       "    color: #555;\n",
       "    margin-left: 4px;\n",
       "    line-height: 19px;\n",
       "  }\n",
       "</style>\n",
       "<div class=\"ansiout\"></div>"
      ]
     },
     "metadata": {
      "application/vnd.databricks.v1+output": {
       "addedWidgets": {},
       "arguments": {},
       "data": "<div class=\"ansiout\"></div>",
       "datasetInfos": [],
       "metadata": {},
       "removedWidgets": [],
       "type": "html"
      }
     },
     "output_type": "display_data"
    },
    {
     "output_type": "display_data",
     "data": {
      "text/html": [
       "<style scoped>\n",
       "  .ansiout {\n",
       "    display: block;\n",
       "    unicode-bidi: embed;\n",
       "    white-space: pre-wrap;\n",
       "    word-wrap: break-word;\n",
       "    word-break: break-all;\n",
       "    font-family: \"Menlo\", \"Monaco\", \"Consolas\", \"Ubuntu Mono\", \"Source Code Pro\", monospace;\n",
       "    font-size: 13px;\n",
       "    color: #555;\n",
       "    margin-left: 4px;\n",
       "    line-height: 19px;\n",
       "  }\n",
       "</style>\n",
       "<div class=\"ansiout\"></div>"
      ]
     },
     "metadata": {
      "application/vnd.databricks.v1+output": {
       "addedWidgets": {},
       "arguments": {},
       "data": "<div class=\"ansiout\"></div>",
       "datasetInfos": [],
       "metadata": {},
       "removedWidgets": [],
       "type": "html"
      }
     },
     "output_type": "display_data"
    }
   ],
   "source": [
    "from pyspark.sql.functions import col, count, row_number, percentile_approx, avg, format_number, max, rank, year\n",
    "from pyspark.sql.window import Window"
   ]
  },
  {
   "cell_type": "markdown",
   "metadata": {
    "application/vnd.databricks.v1+cell": {
     "cellMetadata": {
      "byteLimit": 2048000,
      "rowLimit": 10000
     },
     "inputWidgets": {},
     "nuid": "f60979a8-582b-4632-b952-2e8298a37229",
     "showTitle": false,
     "title": ""
    }
   },
   "source": [
    "\n",
    "# Task 4\n",
    "Find the most popular Pinterest category people post to based on their country.\n",
    "\n",
    "\n",
    "Your query should return a DataFrame that contains the following columns:\n",
    "\n",
    "country\n",
    "category\n",
    "category_count, a new column containing the desired query output"
   ]
  },
  {
   "cell_type": "code",
   "execution_count": 0,
   "metadata": {
    "application/vnd.databricks.v1+cell": {
     "cellMetadata": {
      "byteLimit": 2048000,
      "rowLimit": 10000
     },
     "inputWidgets": {},
     "nuid": "63c4b1f7-da6d-445c-8ffc-14fc26dedf34",
     "showTitle": false,
     "title": ""
    }
   },
   "outputs": [
    {
     "output_type": "display_data",
     "data": {
      "text/html": [
       "<style scoped>\n",
       "  .table-result-container {\n",
       "    max-height: 300px;\n",
       "    overflow: auto;\n",
       "  }\n",
       "  table, th, td {\n",
       "    border: 1px solid black;\n",
       "    border-collapse: collapse;\n",
       "  }\n",
       "  th, td {\n",
       "    padding: 5px;\n",
       "  }\n",
       "  th {\n",
       "    text-align: left;\n",
       "  }\n",
       "</style><div class='table-result-container'><table class='table-result'><thead style='background-color: white'><tr><th>country</th><th>category</th><th>category_count</th></tr></thead><tbody><tr><td>Albania</td><td>mens-fashion</td><td>26</td></tr><tr><td>Algeria</td><td>travel</td><td>4</td></tr><tr><td>American Samoa</td><td>travel</td><td>3</td></tr><tr><td>Angola</td><td>diy-and-crafts</td><td>10</td></tr><tr><td>Anguilla</td><td>home-decor</td><td>22</td></tr><tr><td>Antarctica (the territory South of 60 deg S)</td><td>christmas</td><td>9</td></tr><tr><td>Antigua and Barbuda</td><td>quotes</td><td>4</td></tr><tr><td>Argentina</td><td>tattoos</td><td>3</td></tr><tr><td>Armenia</td><td>diy-and-crafts</td><td>33</td></tr><tr><td>Aruba</td><td>tattoos</td><td>24</td></tr><tr><td>Australia</td><td>mens-fashion</td><td>11</td></tr><tr><td>Austria</td><td>travel</td><td>11</td></tr><tr><td>Azerbaijan</td><td>event-planning</td><td>24</td></tr><tr><td>Bahrain</td><td>finance</td><td>3</td></tr><tr><td>Bangladesh</td><td>art</td><td>9</td></tr><tr><td>Barbados</td><td>travel</td><td>10</td></tr><tr><td>Bermuda</td><td>christmas</td><td>3</td></tr><tr><td>Botswana</td><td>tattoos</td><td>4</td></tr><tr><td>British Virgin Islands</td><td>christmas</td><td>3</td></tr><tr><td>Bulgaria</td><td>finance</td><td>24</td></tr><tr><td>Cambodia</td><td>diy-and-crafts</td><td>22</td></tr><tr><td>Central African Republic</td><td>christmas</td><td>7</td></tr><tr><td>Christmas Island</td><td>christmas</td><td>3</td></tr><tr><td>Cocos (Keeling) Islands</td><td>vehicles</td><td>24</td></tr><tr><td>Colombia</td><td>finance</td><td>24</td></tr><tr><td>Congo</td><td>art</td><td>4</td></tr><tr><td>Cote d'Ivoire</td><td>education</td><td>24</td></tr><tr><td>Dominican Republic</td><td>travel</td><td>7</td></tr><tr><td>Egypt</td><td>diy-and-crafts</td><td>4</td></tr><tr><td>French Guiana</td><td>quotes</td><td>24</td></tr><tr><td>Germany</td><td>event-planning</td><td>4</td></tr><tr><td>Gibraltar</td><td>vehicles</td><td>3</td></tr><tr><td>Guinea-Bissau</td><td>tattoos</td><td>3</td></tr><tr><td>India</td><td>travel</td><td>7</td></tr><tr><td>Isle of Man</td><td>finance</td><td>4</td></tr><tr><td>Jamaica</td><td>vehicles</td><td>10</td></tr><tr><td>Maldives</td><td>beauty</td><td>24</td></tr><tr><td>Mauritania</td><td>education</td><td>3</td></tr><tr><td>Montserrat</td><td>art</td><td>3</td></tr><tr><td>Mozambique</td><td>home-decor</td><td>10</td></tr><tr><td>Netherlands Antilles</td><td>art</td><td>3</td></tr><tr><td>Papua New Guinea</td><td>quotes</td><td>3</td></tr><tr><td>Philippines</td><td>event-planning</td><td>4</td></tr><tr><td>Saint Kitts and Nevis</td><td>vehicles</td><td>4</td></tr><tr><td>Seychelles</td><td>tattoos</td><td>6</td></tr><tr><td>Sudan</td><td>mens-fashion</td><td>10</td></tr><tr><td>Tonga</td><td>beauty</td><td>4</td></tr></tbody></table></div>"
      ]
     },
     "metadata": {
      "application/vnd.databricks.v1+output": {
       "addedWidgets": {},
       "aggData": [],
       "aggError": "",
       "aggOverflow": false,
       "aggSchema": [],
       "aggSeriesLimitReached": false,
       "aggType": "",
       "arguments": {},
       "columnCustomDisplayInfos": {},
       "data": [
        [
         "Albania",
         "mens-fashion",
         26
        ],
        [
         "Algeria",
         "travel",
         4
        ],
        [
         "American Samoa",
         "travel",
         3
        ],
        [
         "Angola",
         "diy-and-crafts",
         10
        ],
        [
         "Anguilla",
         "home-decor",
         22
        ],
        [
         "Antarctica (the territory South of 60 deg S)",
         "christmas",
         9
        ],
        [
         "Antigua and Barbuda",
         "quotes",
         4
        ],
        [
         "Argentina",
         "tattoos",
         3
        ],
        [
         "Armenia",
         "diy-and-crafts",
         33
        ],
        [
         "Aruba",
         "tattoos",
         24
        ],
        [
         "Australia",
         "mens-fashion",
         11
        ],
        [
         "Austria",
         "travel",
         11
        ],
        [
         "Azerbaijan",
         "event-planning",
         24
        ],
        [
         "Bahrain",
         "finance",
         3
        ],
        [
         "Bangladesh",
         "art",
         9
        ],
        [
         "Barbados",
         "travel",
         10
        ],
        [
         "Bermuda",
         "christmas",
         3
        ],
        [
         "Botswana",
         "tattoos",
         4
        ],
        [
         "British Virgin Islands",
         "christmas",
         3
        ],
        [
         "Bulgaria",
         "finance",
         24
        ],
        [
         "Cambodia",
         "diy-and-crafts",
         22
        ],
        [
         "Central African Republic",
         "christmas",
         7
        ],
        [
         "Christmas Island",
         "christmas",
         3
        ],
        [
         "Cocos (Keeling) Islands",
         "vehicles",
         24
        ],
        [
         "Colombia",
         "finance",
         24
        ],
        [
         "Congo",
         "art",
         4
        ],
        [
         "Cote d'Ivoire",
         "education",
         24
        ],
        [
         "Dominican Republic",
         "travel",
         7
        ],
        [
         "Egypt",
         "diy-and-crafts",
         4
        ],
        [
         "French Guiana",
         "quotes",
         24
        ],
        [
         "Germany",
         "event-planning",
         4
        ],
        [
         "Gibraltar",
         "vehicles",
         3
        ],
        [
         "Guinea-Bissau",
         "tattoos",
         3
        ],
        [
         "India",
         "travel",
         7
        ],
        [
         "Isle of Man",
         "finance",
         4
        ],
        [
         "Jamaica",
         "vehicles",
         10
        ],
        [
         "Maldives",
         "beauty",
         24
        ],
        [
         "Mauritania",
         "education",
         3
        ],
        [
         "Montserrat",
         "art",
         3
        ],
        [
         "Mozambique",
         "home-decor",
         10
        ],
        [
         "Netherlands Antilles",
         "art",
         3
        ],
        [
         "Papua New Guinea",
         "quotes",
         3
        ],
        [
         "Philippines",
         "event-planning",
         4
        ],
        [
         "Saint Kitts and Nevis",
         "vehicles",
         4
        ],
        [
         "Seychelles",
         "tattoos",
         6
        ],
        [
         "Sudan",
         "mens-fashion",
         10
        ],
        [
         "Tonga",
         "beauty",
         4
        ]
       ],
       "datasetInfos": [],
       "dbfsResultPath": null,
       "isJsonSchema": true,
       "metadata": {},
       "overflow": false,
       "plotOptions": {
        "customPlotOptions": {},
        "displayType": "table",
        "pivotAggregation": null,
        "pivotColumns": null,
        "xColumns": null,
        "yColumns": null
       },
       "removedWidgets": [],
       "schema": [
        {
         "metadata": "{}",
         "name": "country",
         "type": "\"string\""
        },
        {
         "metadata": "{}",
         "name": "category",
         "type": "\"string\""
        },
        {
         "metadata": "{}",
         "name": "category_count",
         "type": "\"long\""
        }
       ],
       "type": "table"
      }
     },
     "output_type": "display_data"
    }
   ],
   "source": [
    "# Join the \"pin\" and \"geo\" DataFrames on the \"ind\" column\n",
    "df_pin_geo = df_pin.join(df_geo, df_pin[\"ind\"] == df_geo[\"ind\"], how=\"inner\")\n",
    "\n",
    "# Select relevant columns for the analysis\n",
    "df_pin_geo_country_category = df_pin_geo.select(\"country\", \"category\")\n",
    "\n",
    "# Create a window specification to partition by \"country\" and order by \"category_count\" in descending order\n",
    "windowCountryByCatCount = Window.partitionBy(\"country\").orderBy(col(\"category_count\").desc())\n",
    "\n",
    "# Perform the analysis to find the most popular category in each country\n",
    "query_df = df_pin_geo_country_category.groupBy(\"country\", \"category\").agg(count(\"category\").alias(\"category_count\")) \\\n",
    "    .withColumn(\"rank\", row_number().over(windowCountryByCatCount)) \\\n",
    "    .filter(col(\"rank\") == 1) \\\n",
    "    .drop(\"rank\")\n",
    "    \n",
    "display(query_df)"
   ]
  },
  {
   "cell_type": "markdown",
   "metadata": {
    "application/vnd.databricks.v1+cell": {
     "cellMetadata": {
      "byteLimit": 2048000,
      "rowLimit": 10000
     },
     "inputWidgets": {},
     "nuid": "109f815c-175a-4b47-adcb-a5cf7cca92c0",
     "showTitle": false,
     "title": ""
    }
   },
   "source": [
    "\n",
    "# Task 5\n",
    "Find how many posts each category had between 2018 and 2022.\n",
    "\n",
    "\n",
    "Your query should return a DataFrame that contains the following columns:\n",
    "\n",
    "post_year, a new column that contains only the year from the timestamp column\n",
    "category\n",
    "category_count, a new column containing the desired query output"
   ]
  },
  {
   "cell_type": "code",
   "execution_count": 0,
   "metadata": {
    "application/vnd.databricks.v1+cell": {
     "cellMetadata": {
      "byteLimit": 2048000,
      "rowLimit": 10000
     },
     "inputWidgets": {},
     "nuid": "635456ab-80da-4250-baa2-9ade0f13201d",
     "showTitle": false,
     "title": ""
    }
   },
   "outputs": [
    {
     "output_type": "display_data",
     "data": {
      "text/html": [
       "<style scoped>\n",
       "  .table-result-container {\n",
       "    max-height: 300px;\n",
       "    overflow: auto;\n",
       "  }\n",
       "  table, th, td {\n",
       "    border: 1px solid black;\n",
       "    border-collapse: collapse;\n",
       "  }\n",
       "  th, td {\n",
       "    padding: 5px;\n",
       "  }\n",
       "  th {\n",
       "    text-align: left;\n",
       "  }\n",
       "</style><div class='table-result-container'><table class='table-result'><thead style='background-color: white'><tr><th>post_year</th><th>category</th><th>category_count</th></tr></thead><tbody><tr><td>2022</td><td>vehicles</td><td>24</td></tr><tr><td>2022</td><td>beauty</td><td>7</td></tr><tr><td>2022</td><td>christmas</td><td>12</td></tr><tr><td>2022</td><td>tattoos</td><td>6</td></tr><tr><td>2022</td><td>mens-fashion</td><td>4</td></tr><tr><td>2021</td><td>art</td><td>4</td></tr><tr><td>2021</td><td>event-planning</td><td>24</td></tr><tr><td>2021</td><td>tattoos</td><td>10</td></tr><tr><td>2021</td><td>home-decor</td><td>22</td></tr><tr><td>2021</td><td>quotes</td><td>4</td></tr><tr><td>2021</td><td>diy-and-crafts</td><td>26</td></tr><tr><td>2021</td><td>finance</td><td>48</td></tr><tr><td>2020</td><td>finance</td><td>4</td></tr><tr><td>2020</td><td>diy-and-crafts</td><td>24</td></tr><tr><td>2020</td><td>tattoos</td><td>24</td></tr><tr><td>2020</td><td>christmas</td><td>4</td></tr><tr><td>2020</td><td>art</td><td>13</td></tr><tr><td>2020</td><td>mens-fashion</td><td>26</td></tr><tr><td>2020</td><td>travel</td><td>10</td></tr><tr><td>2019</td><td>education</td><td>31</td></tr><tr><td>2019</td><td>diy-and-crafts</td><td>34</td></tr><tr><td>2019</td><td>art</td><td>6</td></tr><tr><td>2019</td><td>christmas</td><td>10</td></tr><tr><td>2019</td><td>travel</td><td>18</td></tr><tr><td>2019</td><td>vehicles</td><td>7</td></tr><tr><td>2019</td><td>home-decor</td><td>10</td></tr><tr><td>2019</td><td>mens-fashion</td><td>10</td></tr><tr><td>2019</td><td>quotes</td><td>24</td></tr><tr><td>2019</td><td>finance</td><td>3</td></tr><tr><td>2019</td><td>event-planning</td><td>12</td></tr><tr><td>2018</td><td>travel</td><td>14</td></tr><tr><td>2018</td><td>art</td><td>6</td></tr><tr><td>2018</td><td>mens-fashion</td><td>11</td></tr><tr><td>2018</td><td>christmas</td><td>6</td></tr><tr><td>2018</td><td>diy-and-crafts</td><td>31</td></tr><tr><td>2018</td><td>quotes</td><td>6</td></tr><tr><td>2018</td><td>tattoos</td><td>3</td></tr><tr><td>2018</td><td>beauty</td><td>27</td></tr><tr><td>2018</td><td>vehicles</td><td>10</td></tr></tbody></table></div>"
      ]
     },
     "metadata": {
      "application/vnd.databricks.v1+output": {
       "addedWidgets": {},
       "aggData": [],
       "aggError": "",
       "aggOverflow": false,
       "aggSchema": [],
       "aggSeriesLimitReached": false,
       "aggType": "",
       "arguments": {},
       "columnCustomDisplayInfos": {},
       "data": [
        [
         2022,
         "vehicles",
         24
        ],
        [
         2022,
         "beauty",
         7
        ],
        [
         2022,
         "christmas",
         12
        ],
        [
         2022,
         "tattoos",
         6
        ],
        [
         2022,
         "mens-fashion",
         4
        ],
        [
         2021,
         "art",
         4
        ],
        [
         2021,
         "event-planning",
         24
        ],
        [
         2021,
         "tattoos",
         10
        ],
        [
         2021,
         "home-decor",
         22
        ],
        [
         2021,
         "quotes",
         4
        ],
        [
         2021,
         "diy-and-crafts",
         26
        ],
        [
         2021,
         "finance",
         48
        ],
        [
         2020,
         "finance",
         4
        ],
        [
         2020,
         "diy-and-crafts",
         24
        ],
        [
         2020,
         "tattoos",
         24
        ],
        [
         2020,
         "christmas",
         4
        ],
        [
         2020,
         "art",
         13
        ],
        [
         2020,
         "mens-fashion",
         26
        ],
        [
         2020,
         "travel",
         10
        ],
        [
         2019,
         "education",
         31
        ],
        [
         2019,
         "diy-and-crafts",
         34
        ],
        [
         2019,
         "art",
         6
        ],
        [
         2019,
         "christmas",
         10
        ],
        [
         2019,
         "travel",
         18
        ],
        [
         2019,
         "vehicles",
         7
        ],
        [
         2019,
         "home-decor",
         10
        ],
        [
         2019,
         "mens-fashion",
         10
        ],
        [
         2019,
         "quotes",
         24
        ],
        [
         2019,
         "finance",
         3
        ],
        [
         2019,
         "event-planning",
         12
        ],
        [
         2018,
         "travel",
         14
        ],
        [
         2018,
         "art",
         6
        ],
        [
         2018,
         "mens-fashion",
         11
        ],
        [
         2018,
         "christmas",
         6
        ],
        [
         2018,
         "diy-and-crafts",
         31
        ],
        [
         2018,
         "quotes",
         6
        ],
        [
         2018,
         "tattoos",
         3
        ],
        [
         2018,
         "beauty",
         27
        ],
        [
         2018,
         "vehicles",
         10
        ]
       ],
       "datasetInfos": [],
       "dbfsResultPath": null,
       "isJsonSchema": true,
       "metadata": {},
       "overflow": false,
       "plotOptions": {
        "customPlotOptions": {},
        "displayType": "table",
        "pivotAggregation": null,
        "pivotColumns": null,
        "xColumns": null,
        "yColumns": null
       },
       "removedWidgets": [],
       "schema": [
        {
         "metadata": "{}",
         "name": "post_year",
         "type": "\"integer\""
        },
        {
         "metadata": "{}",
         "name": "category",
         "type": "\"string\""
        },
        {
         "metadata": "{}",
         "name": "category_count",
         "type": "\"long\""
        }
       ],
       "type": "table"
      }
     },
     "output_type": "display_data"
    }
   ],
   "source": [
    "# Select relevant columns for the analysis\n",
    "df_pin_geo_country_timestamp = df_pin_geo.select(\"category\", \"timestamp\")\n",
    "\n",
    "# Extract the \"year\" from the \"timestamp\" column\n",
    "df_pin_geo_country_timestamp = df_pin_geo_country_timestamp.withColumn(\"year\", year(col(\"timestamp\")))\n",
    "\n",
    "# Perform the analysis to count the number of posts for each category in each year\n",
    "query_df_2 = df_pin_geo_country_timestamp.groupBy(\"year\", \"category\").agg(count(\"category\").alias(\"category_count\")) \\\n",
    "    .filter(col(\"year\") <= 2022) \\\n",
    "    .filter(col(\"year\") >= 2018)\n",
    "\n",
    "# Rename the \"year\" column to \"post_year\" for clarity\n",
    "query_df_2 = query_df_2.withColumnRenamed(\"year\", \"post_year\")\n",
    "\n",
    "# Order the result by \"post_year\" in descending order\n",
    "query_df_2 = query_df_2.orderBy(col(\"post_year\").desc())\n",
    "\n",
    "display(query_df_2)"
   ]
  },
  {
   "cell_type": "markdown",
   "metadata": {
    "application/vnd.databricks.v1+cell": {
     "cellMetadata": {
      "byteLimit": 2048000,
      "rowLimit": 10000
     },
     "inputWidgets": {},
     "nuid": "147e56b1-548a-4a99-be10-531a7e412675",
     "showTitle": false,
     "title": ""
    }
   },
   "source": [
    "\n",
    "# Task 6\n",
    "Step 1: For each country find the user with the most followers.\n",
    "\n",
    "\n",
    "Your query should return a DataFrame that contains the following columns:\n",
    "\n",
    "country\n",
    "poster_name\n",
    "follower_count\n",
    "Step 2: Based on the above query, find the country with the user with most followers.\n",
    "\n",
    "\n",
    "Your query should return a DataFrame that contains the following columns:\n",
    "\n",
    "country\n",
    "follower_count\n",
    "This DataFrame should have only one entry."
   ]
  },
  {
   "cell_type": "code",
   "execution_count": 0,
   "metadata": {
    "application/vnd.databricks.v1+cell": {
     "cellMetadata": {
      "byteLimit": 2048000,
      "rowLimit": 10000
     },
     "inputWidgets": {},
     "nuid": "79a16835-9adc-4ba1-8af1-943ea188cc26",
     "showTitle": false,
     "title": ""
    }
   },
   "outputs": [
    {
     "output_type": "display_data",
     "data": {
      "text/html": [
       "<style scoped>\n",
       "  .table-result-container {\n",
       "    max-height: 300px;\n",
       "    overflow: auto;\n",
       "  }\n",
       "  table, th, td {\n",
       "    border: 1px solid black;\n",
       "    border-collapse: collapse;\n",
       "  }\n",
       "  th, td {\n",
       "    padding: 5px;\n",
       "  }\n",
       "  th {\n",
       "    text-align: left;\n",
       "  }\n",
       "</style><div class='table-result-container'><table class='table-result'><thead style='background-color: white'><tr><th>country</th><th>poster_name</th><th>follower_count</th></tr></thead><tbody><tr><td>Albania</td><td>Projects with Kids</td><td>20000</td></tr><tr><td>Algeria</td><td>Fun Life Crisis</td><td>130000</td></tr><tr><td>American Samoa</td><td>TheFab20s | Travel+Food+DIY+Listicles</td><td>42000</td></tr><tr><td>Angola</td><td>CraftGossip.com</td><td>502000</td></tr><tr><td>Anguilla</td><td>Kristen | Lifestyle, Mom Tips & Teacher Stuff Blog</td><td>92000</td></tr><tr><td>Antarctica (the territory South of 60 deg S)</td><td>HikenDip</td><td>500000</td></tr><tr><td>Antigua and Barbuda</td><td>Sumcoco | Decor Ideas, Hairstyles, Nails Fashion Advice</td><td>306000</td></tr><tr><td>Argentina</td><td>Next Luxury</td><td>800000</td></tr><tr><td>Armenia</td><td>Michelle {CraftyMorning.com}</td><td>892000</td></tr><tr><td>Aruba</td><td>TheTrendSpotter</td><td>211000</td></tr><tr><td>Australia</td><td>LLEGANCE | Workwear Fashion Woman Advice For Driven Professionals</td><td>28000</td></tr><tr><td>Austria</td><td>The World Pursuit Travel Website</td><td>89000</td></tr><tr><td>Azerbaijan</td><td>Style Me Pretty</td><td>60000</td></tr><tr><td>Bahrain</td><td>R.J. Weiss at The Ways To Wealth | Personal Finance | Debt Payoff</td><td>46000</td></tr><tr><td>Bangladesh</td><td>Architectural Digest</td><td>30000</td></tr><tr><td>Barbados</td><td>The Creativity Exchange</td><td>410000</td></tr><tr><td>Bermuda</td><td>Life on Summerhill | Home, Holiday Decor & DIY Website</td><td>46000</td></tr><tr><td>Botswana</td><td>RapidLeaks</td><td>4000</td></tr><tr><td>British Virgin Islands</td><td>Kitchen Fun With My 3 Sons</td><td>245000</td></tr><tr><td>Bulgaria</td><td>Living Low Key | Save Money, Make Money, & Frugal Living</td><td>26000</td></tr><tr><td>Cambodia</td><td>Mixed Media Crafts</td><td>6000</td></tr><tr><td>Central African Republic</td><td>PureWow</td><td>868000</td></tr><tr><td>Christmas Island</td><td>Instructables</td><td>30000</td></tr><tr><td>Cocos (Keeling) Islands</td><td>Ray Uyemura</td><td>437</td></tr><tr><td>Colombia</td><td>Consuelo Aguirre</td><td>0</td></tr><tr><td>Congo</td><td>Shawn Petite</td><td>27000</td></tr><tr><td>Cote d'Ivoire</td><td>The Crafting Chicks</td><td>192000</td></tr><tr><td>Dominican Republic</td><td>Petite in Paris</td><td>3000</td></tr><tr><td>Egypt</td><td>South Lumina Style</td><td>9000</td></tr><tr><td>French Guiana</td><td>Commitment Connection</td><td>51000</td></tr><tr><td>Germany</td><td>QC Career School</td><td>5000</td></tr><tr><td>Gibraltar</td><td>TheSuperBOO!</td><td>89000</td></tr><tr><td>Guinea-Bissau</td><td>Livitrevisani</td><td>0</td></tr><tr><td>India</td><td>Travel Mad Mum</td><td>7000</td></tr><tr><td>Isle of Man</td><td>Annamarie Hilton</td><td>313</td></tr><tr><td>Jamaica</td><td>hobbyDB</td><td>8000</td></tr><tr><td>Maldives</td><td>Thrive Causemetics</td><td>43000</td></tr><tr><td>Mauritania</td><td>The Literacy Nest</td><td>22000</td></tr><tr><td>Montserrat</td><td>Taming Little Monsters - Fun Activities for Kids</td><td>4000</td></tr><tr><td>Mozambique</td><td>Stylin by Aylin</td><td>83000</td></tr><tr><td>Netherlands Antilles</td><td>Kim Cook-Thirteen Chairs-Slates Mugs And Tees</td><td>7000</td></tr><tr><td>Papua New Guinea</td><td>AnnaLee Kick</td><td>112</td></tr><tr><td>Philippines</td><td>Life of Neon | Custom Neon Light Signs | Home Decor Wall Art</td><td>111</td></tr><tr><td>Saint Kitts and Nevis</td><td>vintagetopia</td><td>171000</td></tr><tr><td>Seychelles</td><td>ALL FOR WOMAN</td><td>21000</td></tr><tr><td>Sudan</td><td>iElylike ..✿◕‿◕✿ஐ✿◕‿◕✿</td><td>940</td></tr><tr><td>Tonga</td><td>Grecia Perales</td><td>0</td></tr></tbody></table></div>"
      ]
     },
     "metadata": {
      "application/vnd.databricks.v1+output": {
       "addedWidgets": {},
       "aggData": [],
       "aggError": "",
       "aggOverflow": false,
       "aggSchema": [],
       "aggSeriesLimitReached": false,
       "aggType": "",
       "arguments": {},
       "columnCustomDisplayInfos": {},
       "data": [
        [
         "Albania",
         "Projects with Kids",
         20000
        ],
        [
         "Algeria",
         "Fun Life Crisis",
         130000
        ],
        [
         "American Samoa",
         "TheFab20s | Travel+Food+DIY+Listicles",
         42000
        ],
        [
         "Angola",
         "CraftGossip.com",
         502000
        ],
        [
         "Anguilla",
         "Kristen | Lifestyle, Mom Tips & Teacher Stuff Blog",
         92000
        ],
        [
         "Antarctica (the territory South of 60 deg S)",
         "HikenDip",
         500000
        ],
        [
         "Antigua and Barbuda",
         "Sumcoco | Decor Ideas, Hairstyles, Nails Fashion Advice",
         306000
        ],
        [
         "Argentina",
         "Next Luxury",
         800000
        ],
        [
         "Armenia",
         "Michelle {CraftyMorning.com}",
         892000
        ],
        [
         "Aruba",
         "TheTrendSpotter",
         211000
        ],
        [
         "Australia",
         "LLEGANCE | Workwear Fashion Woman Advice For Driven Professionals",
         28000
        ],
        [
         "Austria",
         "The World Pursuit Travel Website",
         89000
        ],
        [
         "Azerbaijan",
         "Style Me Pretty",
         60000
        ],
        [
         "Bahrain",
         "R.J. Weiss at The Ways To Wealth | Personal Finance | Debt Payoff",
         46000
        ],
        [
         "Bangladesh",
         "Architectural Digest",
         30000
        ],
        [
         "Barbados",
         "The Creativity Exchange",
         410000
        ],
        [
         "Bermuda",
         "Life on Summerhill | Home, Holiday Decor & DIY Website",
         46000
        ],
        [
         "Botswana",
         "RapidLeaks",
         4000
        ],
        [
         "British Virgin Islands",
         "Kitchen Fun With My 3 Sons",
         245000
        ],
        [
         "Bulgaria",
         "Living Low Key | Save Money, Make Money, & Frugal Living",
         26000
        ],
        [
         "Cambodia",
         "Mixed Media Crafts",
         6000
        ],
        [
         "Central African Republic",
         "PureWow",
         868000
        ],
        [
         "Christmas Island",
         "Instructables",
         30000
        ],
        [
         "Cocos (Keeling) Islands",
         "Ray Uyemura",
         437
        ],
        [
         "Colombia",
         "Consuelo Aguirre",
         0
        ],
        [
         "Congo",
         "Shawn Petite",
         27000
        ],
        [
         "Cote d'Ivoire",
         "The Crafting Chicks",
         192000
        ],
        [
         "Dominican Republic",
         "Petite in Paris",
         3000
        ],
        [
         "Egypt",
         "South Lumina Style",
         9000
        ],
        [
         "French Guiana",
         "Commitment Connection",
         51000
        ],
        [
         "Germany",
         "QC Career School",
         5000
        ],
        [
         "Gibraltar",
         "TheSuperBOO!",
         89000
        ],
        [
         "Guinea-Bissau",
         "Livitrevisani",
         0
        ],
        [
         "India",
         "Travel Mad Mum",
         7000
        ],
        [
         "Isle of Man",
         "Annamarie Hilton",
         313
        ],
        [
         "Jamaica",
         "hobbyDB",
         8000
        ],
        [
         "Maldives",
         "Thrive Causemetics",
         43000
        ],
        [
         "Mauritania",
         "The Literacy Nest",
         22000
        ],
        [
         "Montserrat",
         "Taming Little Monsters - Fun Activities for Kids",
         4000
        ],
        [
         "Mozambique",
         "Stylin by Aylin",
         83000
        ],
        [
         "Netherlands Antilles",
         "Kim Cook-Thirteen Chairs-Slates Mugs And Tees",
         7000
        ],
        [
         "Papua New Guinea",
         "AnnaLee Kick",
         112
        ],
        [
         "Philippines",
         "Life of Neon | Custom Neon Light Signs | Home Decor Wall Art",
         111
        ],
        [
         "Saint Kitts and Nevis",
         "vintagetopia",
         171000
        ],
        [
         "Seychelles",
         "ALL FOR WOMAN",
         21000
        ],
        [
         "Sudan",
         "iElylike ..✿◕‿◕✿ஐ✿◕‿◕✿",
         940
        ],
        [
         "Tonga",
         "Grecia Perales",
         0
        ]
       ],
       "datasetInfos": [],
       "dbfsResultPath": null,
       "isJsonSchema": true,
       "metadata": {},
       "overflow": false,
       "plotOptions": {
        "customPlotOptions": {},
        "displayType": "table",
        "pivotAggregation": null,
        "pivotColumns": null,
        "xColumns": null,
        "yColumns": null
       },
       "removedWidgets": [],
       "schema": [
        {
         "metadata": "{}",
         "name": "country",
         "type": "\"string\""
        },
        {
         "metadata": "{}",
         "name": "poster_name",
         "type": "\"string\""
        },
        {
         "metadata": "{}",
         "name": "follower_count",
         "type": "\"integer\""
        }
       ],
       "type": "table"
      }
     },
     "output_type": "display_data"
    },
    {
     "output_type": "display_data",
     "data": {
      "text/html": [
       "<style scoped>\n",
       "  .table-result-container {\n",
       "    max-height: 300px;\n",
       "    overflow: auto;\n",
       "  }\n",
       "  table, th, td {\n",
       "    border: 1px solid black;\n",
       "    border-collapse: collapse;\n",
       "  }\n",
       "  th, td {\n",
       "    padding: 5px;\n",
       "  }\n",
       "  th {\n",
       "    text-align: left;\n",
       "  }\n",
       "</style><div class='table-result-container'><table class='table-result'><thead style='background-color: white'><tr><th>country</th><th>follower_count</th></tr></thead><tbody><tr><td>Armenia</td><td>892000</td></tr></tbody></table></div>"
      ]
     },
     "metadata": {
      "application/vnd.databricks.v1+output": {
       "addedWidgets": {},
       "aggData": [],
       "aggError": "",
       "aggOverflow": false,
       "aggSchema": [],
       "aggSeriesLimitReached": false,
       "aggType": "",
       "arguments": {},
       "columnCustomDisplayInfos": {},
       "data": [
        [
         "Armenia",
         892000
        ]
       ],
       "datasetInfos": [],
       "dbfsResultPath": null,
       "isJsonSchema": true,
       "metadata": {},
       "overflow": false,
       "plotOptions": {
        "customPlotOptions": {},
        "displayType": "table",
        "pivotAggregation": null,
        "pivotColumns": null,
        "xColumns": null,
        "yColumns": null
       },
       "removedWidgets": [],
       "schema": [
        {
         "metadata": "{}",
         "name": "country",
         "type": "\"string\""
        },
        {
         "metadata": "{}",
         "name": "follower_count",
         "type": "\"integer\""
        }
       ],
       "type": "table"
      }
     },
     "output_type": "display_data"
    }
   ],
   "source": [
    "# Select relevant columns for the analysis\n",
    "df_pin_geo_poster_follower = df_pin_geo.select(\"country\", \"poster_name\", \"follower_count\")\n",
    "\n",
    "# Define a window specification partitioned by \"country\" and ordered by \"follower_count\" in descending order\n",
    "windowCountryByFollower = Window.partitionBy(\"country\").orderBy(col(\"follower_count\").desc())\n",
    "\n",
    "# Find the poster with the highest follower count in each country\n",
    "query_df_3 = df_pin_geo_poster_follower.withColumn(\"rank\", row_number().over(windowCountryByFollower)) \\\n",
    "    .filter(col(\"rank\") == 1) \\\n",
    "    .drop(\"rank\")\n",
    "\n",
    "# Define a window specification ordered by \"follower_count\" in descending order\n",
    "windowCountryByFollower_2 = Window.orderBy(col(\"follower_count\").desc())\n",
    "\n",
    "# Find the global top poster with the highest follower count\n",
    "query_df_4 = query_df_3.withColumn(\"rank\", rank().over(windowCountryByFollower_2)) \\\n",
    "    .filter(col(\"rank\") == 1) \\\n",
    "    .drop(\"rank\") \\\n",
    "    .drop(\"max(follower_count)\") \\\n",
    "    .drop(\"poster_name\")\n",
    "\n",
    "display(query_df_3)\n",
    "display(query_df_4)"
   ]
  },
  {
   "cell_type": "markdown",
   "metadata": {
    "application/vnd.databricks.v1+cell": {
     "cellMetadata": {
      "byteLimit": 2048000,
      "rowLimit": 10000
     },
     "inputWidgets": {},
     "nuid": "e3f7ca57-aefb-4994-914a-64c076222bbd",
     "showTitle": false,
     "title": ""
    }
   },
   "source": [
    "# Task 7\n",
    "What is the most popular category people post to based on the following age groups:\n",
    "\n",
    "18-24\n",
    "25-35\n",
    "36-50\n",
    "+50\n",
    "Your query should return a DataFrame that contains the following columns:\n",
    "\n",
    "age_group, a new column based on the original age column\n",
    "category\n",
    "category_count, a new column containing the desired query output"
   ]
  },
  {
   "cell_type": "code",
   "execution_count": 0,
   "metadata": {
    "application/vnd.databricks.v1+cell": {
     "cellMetadata": {
      "byteLimit": 2048000,
      "rowLimit": 10000
     },
     "inputWidgets": {},
     "nuid": "ee90298c-075e-4f36-b378-611c876fac6f",
     "showTitle": false,
     "title": ""
    }
   },
   "outputs": [
    {
     "output_type": "display_data",
     "data": {
      "text/html": [
       "<style scoped>\n",
       "  .table-result-container {\n",
       "    max-height: 300px;\n",
       "    overflow: auto;\n",
       "  }\n",
       "  table, th, td {\n",
       "    border: 1px solid black;\n",
       "    border-collapse: collapse;\n",
       "  }\n",
       "  th, td {\n",
       "    padding: 5px;\n",
       "  }\n",
       "  th {\n",
       "    text-align: left;\n",
       "  }\n",
       "</style><div class='table-result-container'><table class='table-result'><thead style='background-color: white'><tr><th>age_group</th><th>category</th><th>category_count</th></tr></thead><tbody><tr><td>+50</td><td>event-planning</td><td>4</td></tr><tr><td>18-24</td><td>mens-fashion</td><td>51</td></tr><tr><td>25-35</td><td>diy-and-crafts</td><td>48</td></tr><tr><td>36-50</td><td>diy-and-crafts</td><td>26</td></tr></tbody></table></div>"
      ]
     },
     "metadata": {
      "application/vnd.databricks.v1+output": {
       "addedWidgets": {},
       "aggData": [],
       "aggError": "",
       "aggOverflow": false,
       "aggSchema": [],
       "aggSeriesLimitReached": false,
       "aggType": "",
       "arguments": {},
       "columnCustomDisplayInfos": {},
       "data": [
        [
         "+50",
         "event-planning",
         4
        ],
        [
         "18-24",
         "mens-fashion",
         51
        ],
        [
         "25-35",
         "diy-and-crafts",
         48
        ],
        [
         "36-50",
         "diy-and-crafts",
         26
        ]
       ],
       "datasetInfos": [],
       "dbfsResultPath": null,
       "isJsonSchema": true,
       "metadata": {},
       "overflow": false,
       "plotOptions": {
        "customPlotOptions": {},
        "displayType": "table",
        "pivotAggregation": null,
        "pivotColumns": null,
        "xColumns": null,
        "yColumns": null
       },
       "removedWidgets": [],
       "schema": [
        {
         "metadata": "{}",
         "name": "age_group",
         "type": "\"string\""
        },
        {
         "metadata": "{}",
         "name": "category",
         "type": "\"string\""
        },
        {
         "metadata": "{}",
         "name": "category_count",
         "type": "\"long\""
        }
       ],
       "type": "table"
      }
     },
     "output_type": "display_data"
    }
   ],
   "source": [
    "# Join the \"df_pin\" and \"df_user\" DataFrames on the \"ind\" column\n",
    "df_pin_user = df_pin.join(df_user, df_pin.ind == df_user.ind)\n",
    "\n",
    "# Select relevant columns for the analysis\n",
    "df_pin_user_age_cat = df_pin_user.select(\"age\", \"category\")\n",
    "\n",
    "# Create a new column \"age_group\" based on age ranges\n",
    "df_pin_user_age_cat = df_pin_user_age_cat.withColumn(\n",
    "    \"age_group\",\n",
    "    when((col(\"age\") >= 18) & (col(\"age\") <= 24), \"18-24\") \\\n",
    "    .when((col(\"age\") >= 25) & (col(\"age\") <= 35), \"25-35\") \\\n",
    "    .when((col(\"age\") >= 36) & (col(\"age\") <= 50), \"36-50\") \\\n",
    "    .otherwise(\"+50\")\n",
    ")\n",
    "\n",
    "# Define a window specification partitioned by \"age_group\" and ordered by \"category_count\" in descending order\n",
    "windowAgeGroupByCatCount = Window.partitionBy(\"age_group\").orderBy(col(\"category_count\").desc())\n",
    "\n",
    "# Find the most popular category in each age group\n",
    "query_df_5 = df_pin_user_age_cat.groupBy(\"age_group\", \"category\") \\\n",
    "    .agg(count(\"category\").alias(\"category_count\")) \\\n",
    "    .withColumn(\"rank\", row_number().over(windowAgeGroupByCatCount)) \\\n",
    "    .filter(col(\"rank\") == 1) \\\n",
    "    .drop(\"rank\")\n",
    "\n",
    "display(query_df_5)"
   ]
  },
  {
   "cell_type": "markdown",
   "metadata": {
    "application/vnd.databricks.v1+cell": {
     "cellMetadata": {
      "byteLimit": 2048000,
      "rowLimit": 10000
     },
     "inputWidgets": {},
     "nuid": "6e904ec7-b839-41e4-899e-b80a5205b68f",
     "showTitle": false,
     "title": ""
    }
   },
   "source": [
    "#Task 8\n",
    "What is the median follower count for users in the following age groups:\n",
    "\n",
    "18-24\n",
    "25-35\n",
    "36-50\n",
    "+50\n",
    "Your query should return a DataFrame that contains the following columns:\n",
    "\n",
    "age_group, a new column based on the original age column\n",
    "median_follower_count, a new column containing the desired query output\n",
    "Getting stuck on this tas"
   ]
  },
  {
   "cell_type": "code",
   "execution_count": 0,
   "metadata": {
    "application/vnd.databricks.v1+cell": {
     "cellMetadata": {
      "byteLimit": 2048000,
      "rowLimit": 10000
     },
     "inputWidgets": {},
     "nuid": "3f7732b1-00b3-404c-927f-8849681a017f",
     "showTitle": false,
     "title": ""
    }
   },
   "outputs": [
    {
     "output_type": "display_data",
     "data": {
      "text/html": [
       "<style scoped>\n",
       "  .table-result-container {\n",
       "    max-height: 300px;\n",
       "    overflow: auto;\n",
       "  }\n",
       "  table, th, td {\n",
       "    border: 1px solid black;\n",
       "    border-collapse: collapse;\n",
       "  }\n",
       "  th, td {\n",
       "    padding: 5px;\n",
       "  }\n",
       "  th {\n",
       "    text-align: left;\n",
       "  }\n",
       "</style><div class='table-result-container'><table class='table-result'><thead style='background-color: white'><tr><th>age_group</th><th>median_follower_count</th></tr></thead><tbody><tr><td>18-24</td><td>30,000</td></tr><tr><td>25-35</td><td>43,000</td></tr><tr><td>36-50</td><td>6,000</td></tr><tr><td>+50</td><td>111</td></tr></tbody></table></div>"
      ]
     },
     "metadata": {
      "application/vnd.databricks.v1+output": {
       "addedWidgets": {},
       "aggData": [],
       "aggError": "",
       "aggOverflow": false,
       "aggSchema": [],
       "aggSeriesLimitReached": false,
       "aggType": "",
       "arguments": {},
       "columnCustomDisplayInfos": {},
       "data": [
        [
         "18-24",
         "30,000"
        ],
        [
         "25-35",
         "43,000"
        ],
        [
         "36-50",
         "6,000"
        ],
        [
         "+50",
         "111"
        ]
       ],
       "datasetInfos": [],
       "dbfsResultPath": null,
       "isJsonSchema": true,
       "metadata": {},
       "overflow": false,
       "plotOptions": {
        "customPlotOptions": {},
        "displayType": "table",
        "pivotAggregation": null,
        "pivotColumns": null,
        "xColumns": null,
        "yColumns": null
       },
       "removedWidgets": [],
       "schema": [
        {
         "metadata": "{}",
         "name": "age_group",
         "type": "\"string\""
        },
        {
         "metadata": "{}",
         "name": "median_follower_count",
         "type": "\"string\""
        }
       ],
       "type": "table"
      }
     },
     "output_type": "display_data"
    }
   ],
   "source": [
    "# Select relevant columns for the analysis\n",
    "df_pin_user_age_follower = df_pin_user.select(\"age\", \"follower_count\")\n",
    "\n",
    "# Create a new column \"age_group\" based on age ranges\n",
    "df_pin_user_age_follower = df_pin_user_age_follower.withColumn(\n",
    "    \"age_group\",\n",
    "    when((col(\"age\") >= 18) & (col(\"age\") <= 24), \"18-24\") \\\n",
    "    .when((col(\"age\") >= 25) & (col(\"age\") <= 35), \"25-35\") \\\n",
    "    .when((col(\"age\") >= 36) & (col(\"age\") <= 50), \"36-50\") \\\n",
    "    .otherwise(\"+50\")\n",
    ")\n",
    "\n",
    "# Calculate the median follower count for each age group\n",
    "query_df_6 = df_pin_user_age_follower.groupBy(\"age_group\") \\\n",
    "    .agg(percentile_approx(\"follower_count\", 0.5).alias(\"median_follower_count\"))\n",
    "\n",
    "# Format the \"median_follower_count\" column to display with zero decimal places\n",
    "query_df_6 = query_df_6.withColumn(\"median_follower_count\", format_number(\"median_follower_count\", 0))\n",
    "\n",
    "display(query_df_6)"
   ]
  },
  {
   "cell_type": "markdown",
   "metadata": {
    "application/vnd.databricks.v1+cell": {
     "cellMetadata": {
      "byteLimit": 2048000,
      "rowLimit": 10000
     },
     "inputWidgets": {},
     "nuid": "58bcfb57-d325-4ed3-9087-3816b2265c17",
     "showTitle": false,
     "title": ""
    }
   },
   "source": [
    "#Task 9\n",
    "Find how many users have joined between 2015 and 2020.\n",
    "\n",
    "\n",
    "Your query should return a DataFrame that contains the following columns:\n",
    "\n",
    "post_year, a new column that contains only the year from the timestamp column\n",
    "number_users_joined, a new column containing the desired query output"
   ]
  },
  {
   "cell_type": "code",
   "execution_count": 0,
   "metadata": {
    "application/vnd.databricks.v1+cell": {
     "cellMetadata": {
      "byteLimit": 2048000,
      "rowLimit": 10000
     },
     "inputWidgets": {},
     "nuid": "64c5d525-01a1-4e16-95ac-7869047c41aa",
     "showTitle": false,
     "title": ""
    }
   },
   "outputs": [
    {
     "output_type": "display_data",
     "data": {
      "text/html": [
       "<style scoped>\n",
       "  .table-result-container {\n",
       "    max-height: 300px;\n",
       "    overflow: auto;\n",
       "  }\n",
       "  table, th, td {\n",
       "    border: 1px solid black;\n",
       "    border-collapse: collapse;\n",
       "  }\n",
       "  th, td {\n",
       "    padding: 5px;\n",
       "  }\n",
       "  th {\n",
       "    text-align: left;\n",
       "  }\n",
       "</style><div class='table-result-container'><table class='table-result'><thead style='background-color: white'><tr><th>post_year</th><th>number_users_joined</th></tr></thead><tbody><tr><td>2015</td><td>29</td></tr><tr><td>2016</td><td>29</td></tr><tr><td>2017</td><td>7</td></tr></tbody></table></div>"
      ]
     },
     "metadata": {
      "application/vnd.databricks.v1+output": {
       "addedWidgets": {},
       "aggData": [],
       "aggError": "",
       "aggOverflow": false,
       "aggSchema": [],
       "aggSeriesLimitReached": false,
       "aggType": "",
       "arguments": {},
       "columnCustomDisplayInfos": {},
       "data": [
        [
         2015,
         29
        ],
        [
         2016,
         29
        ],
        [
         2017,
         7
        ]
       ],
       "datasetInfos": [],
       "dbfsResultPath": null,
       "isJsonSchema": true,
       "metadata": {},
       "overflow": false,
       "plotOptions": {
        "customPlotOptions": {},
        "displayType": "table",
        "pivotAggregation": null,
        "pivotColumns": null,
        "xColumns": null,
        "yColumns": null
       },
       "removedWidgets": [],
       "schema": [
        {
         "metadata": "{}",
         "name": "post_year",
         "type": "\"integer\""
        },
        {
         "metadata": "{}",
         "name": "number_users_joined",
         "type": "\"long\""
        }
       ],
       "type": "table"
      }
     },
     "output_type": "display_data"
    }
   ],
   "source": [
    "# Select relevant columns for the analysis\n",
    "df_pin_user_post_timestamp = df_user.select(\"date_joined\", \"user_name\", \"ind\")\n",
    "\n",
    "# Extract the year from the \"date_joined\" column\n",
    "df_pin_user_post_timestamp = df_pin_user_post_timestamp.withColumn(\"date_joined\", year(col(\"date_joined\")))\n",
    "\n",
    "# Remove duplicate rows based on the \"ind\" column\n",
    "df_pin_user_post_timestamp = df_pin_user_post_timestamp.dropDuplicates()\n",
    "\n",
    "# Group by the \"date_joined\" column and calculate the count of users joined in each year\n",
    "query_df_7 = df_pin_user_post_timestamp.groupBy(\"date_joined\") \\\n",
    "    .agg(count(\"date_joined\").alias(\"number_users_joined\")) \\\n",
    "    .filter(col(\"date_joined\") >= 2015) \\\n",
    "    .filter(col(\"date_joined\") <= 2020)\n",
    "\n",
    "# Rename the \"date_joined\" column to \"post_year\"\n",
    "query_df_7 = query_df_7.withColumnRenamed(\"date_joined\", \"post_year\")\n",
    "\n",
    "display(query_df_7)"
   ]
  },
  {
   "cell_type": "markdown",
   "metadata": {
    "application/vnd.databricks.v1+cell": {
     "cellMetadata": {},
     "inputWidgets": {},
     "nuid": "ea8c012b-046f-43a3-80c8-79ae784ff565",
     "showTitle": false,
     "title": ""
    }
   },
   "source": [
    "#Task 10\n",
    "Find the median follower count of users have joined between 2015 and 2020.\n",
    "\n",
    "\n",
    "Your query should return a DataFrame that contains the following columns:\n",
    "\n",
    "post_year, a new column that contains only the year from the timestamp column\n",
    "median_follower_count, a new column containing the desired query output"
   ]
  },
  {
   "cell_type": "code",
   "execution_count": 0,
   "metadata": {
    "application/vnd.databricks.v1+cell": {
     "cellMetadata": {
      "byteLimit": 2048000,
      "rowLimit": 10000
     },
     "inputWidgets": {},
     "nuid": "92116f9d-7650-4f28-9c42-d2b68d199b3f",
     "showTitle": false,
     "title": ""
    }
   },
   "outputs": [
    {
     "output_type": "display_data",
     "data": {
      "text/html": [
       "<style scoped>\n",
       "  .table-result-container {\n",
       "    max-height: 300px;\n",
       "    overflow: auto;\n",
       "  }\n",
       "  table, th, td {\n",
       "    border: 1px solid black;\n",
       "    border-collapse: collapse;\n",
       "  }\n",
       "  th, td {\n",
       "    padding: 5px;\n",
       "  }\n",
       "  th {\n",
       "    text-align: left;\n",
       "  }\n",
       "</style><div class='table-result-container'><table class='table-result'><thead style='background-color: white'><tr><th>post_year</th><th>median_follower_count</th></tr></thead><tbody><tr><td>2015</td><td>51,000</td></tr><tr><td>2016</td><td>25,000</td></tr><tr><td>2017</td><td>5,000</td></tr></tbody></table></div>"
      ]
     },
     "metadata": {
      "application/vnd.databricks.v1+output": {
       "addedWidgets": {},
       "aggData": [],
       "aggError": "",
       "aggOverflow": false,
       "aggSchema": [],
       "aggSeriesLimitReached": false,
       "aggType": "",
       "arguments": {},
       "columnCustomDisplayInfos": {},
       "data": [
        [
         2015,
         "51,000"
        ],
        [
         2016,
         "25,000"
        ],
        [
         2017,
         "5,000"
        ]
       ],
       "datasetInfos": [],
       "dbfsResultPath": null,
       "isJsonSchema": true,
       "metadata": {},
       "overflow": false,
       "plotOptions": {
        "customPlotOptions": {},
        "displayType": "table",
        "pivotAggregation": null,
        "pivotColumns": null,
        "xColumns": null,
        "yColumns": null
       },
       "removedWidgets": [],
       "schema": [
        {
         "metadata": "{}",
         "name": "post_year",
         "type": "\"integer\""
        },
        {
         "metadata": "{}",
         "name": "median_follower_count",
         "type": "\"string\""
        }
       ],
       "type": "table"
      }
     },
     "output_type": "display_data"
    }
   ],
   "source": [
    "# Select relevant columns for the analysis\n",
    "df_pin_geo_date_joined_follower = df_pin_user.select(\"date_joined\", \"follower_count\")\n",
    "\n",
    "# Extract the year from the \"date_joined\" column\n",
    "df_pin_geo_date_joined_follower = df_pin_geo_date_joined_follower.withColumn(\"date_joined\", year(col(\"date_joined\")))\n",
    "\n",
    "# Remove duplicate rows based on the \"date_joined\" column\n",
    "df_pin_geo_date_joined_follower = df_pin_geo_date_joined_follower.dropDuplicates()\n",
    "\n",
    "# Group by the \"date_joined\" column and calculate the median follower count for each year\n",
    "df_pin_geo_date_joined_follower = df_pin_geo_date_joined_follower.groupBy(\"date_joined\") \\\n",
    "    .agg(percentile_approx(\"follower_count\", 0.5).alias(\"median_follower_count\")) \\\n",
    "    .filter(col(\"date_joined\") >= 2015) \\\n",
    "    .filter(col(\"date_joined\") <= 2020)\n",
    "\n",
    "# Rename the \"date_joined\" column to \"post_year\"\n",
    "df_pin_geo_date_joined_follower = df_pin_geo_date_joined_follower.withColumnRenamed(\"date_joined\", \"post_year\")\n",
    "\n",
    "# Format the \"median_follower_count\" column to display as an integer\n",
    "query_df_7 = df_pin_geo_date_joined_follower.withColumn(\"median_follower_count\", format_number(\"median_follower_count\", 0))\n",
    "\n",
    "display(query_df_7)"
   ]
  },
  {
   "cell_type": "markdown",
   "metadata": {
    "application/vnd.databricks.v1+cell": {
     "cellMetadata": {},
     "inputWidgets": {},
     "nuid": "ec43889e-779d-42ff-b4a9-1ab887122190",
     "showTitle": false,
     "title": ""
    }
   },
   "source": [
    "#Task 11\n",
    "Find the median follower count of users that have joined between 2015 and 2020, based on which age group they are part of.\n",
    "\n",
    "\n",
    "Your query should return a DataFrame that contains the following columns:\n",
    "\n",
    "age_group, a new column based on the original age column\n",
    "post_year, a new column that contains only the year from the timestamp column\n",
    "median_follower_count, a new column containing the desired query output"
   ]
  },
  {
   "cell_type": "code",
   "execution_count": 0,
   "metadata": {
    "application/vnd.databricks.v1+cell": {
     "cellMetadata": {
      "byteLimit": 2048000,
      "rowLimit": 10000
     },
     "inputWidgets": {},
     "nuid": "e50250c3-0f39-4a11-851d-7018bbc99bea",
     "showTitle": false,
     "title": ""
    }
   },
   "outputs": [
    {
     "output_type": "display_data",
     "data": {
      "text/html": [
       "<style scoped>\n",
       "  .table-result-container {\n",
       "    max-height: 300px;\n",
       "    overflow: auto;\n",
       "  }\n",
       "  table, th, td {\n",
       "    border: 1px solid black;\n",
       "    border-collapse: collapse;\n",
       "  }\n",
       "  th, td {\n",
       "    padding: 5px;\n",
       "  }\n",
       "  th {\n",
       "    text-align: left;\n",
       "  }\n",
       "</style><div class='table-result-container'><table class='table-result'><thead style='background-color: white'><tr><th>post_year</th><th>age_group</th><th>median_follower_count</th></tr></thead><tbody><tr><td>2015</td><td>25-35</td><td>51000</td></tr><tr><td>2016</td><td>18-24</td><td>25000</td></tr><tr><td>2015</td><td>18-24</td><td>92000</td></tr><tr><td>2017</td><td>+50</td><td>5000</td></tr><tr><td>2016</td><td>25-35</td><td>43000</td></tr><tr><td>2017</td><td>36-50</td><td>6000</td></tr><tr><td>2017</td><td>18-24</td><td>940</td></tr><tr><td>2016</td><td>36-50</td><td>7000</td></tr><tr><td>2016</td><td>+50</td><td>0</td></tr><tr><td>2015</td><td>36-50</td><td>25000</td></tr><tr><td>2017</td><td>25-35</td><td>8000</td></tr></tbody></table></div>"
      ]
     },
     "metadata": {
      "application/vnd.databricks.v1+output": {
       "addedWidgets": {},
       "aggData": [],
       "aggError": "",
       "aggOverflow": false,
       "aggSchema": [],
       "aggSeriesLimitReached": false,
       "aggType": "",
       "arguments": {},
       "columnCustomDisplayInfos": {},
       "data": [
        [
         2015,
         "25-35",
         51000
        ],
        [
         2016,
         "18-24",
         25000
        ],
        [
         2015,
         "18-24",
         92000
        ],
        [
         2017,
         "+50",
         5000
        ],
        [
         2016,
         "25-35",
         43000
        ],
        [
         2017,
         "36-50",
         6000
        ],
        [
         2017,
         "18-24",
         940
        ],
        [
         2016,
         "36-50",
         7000
        ],
        [
         2016,
         "+50",
         0
        ],
        [
         2015,
         "36-50",
         25000
        ],
        [
         2017,
         "25-35",
         8000
        ]
       ],
       "datasetInfos": [],
       "dbfsResultPath": null,
       "isJsonSchema": true,
       "metadata": {},
       "overflow": false,
       "plotOptions": {
        "customPlotOptions": {},
        "displayType": "table",
        "pivotAggregation": null,
        "pivotColumns": null,
        "xColumns": null,
        "yColumns": null
       },
       "removedWidgets": [],
       "schema": [
        {
         "metadata": "{}",
         "name": "post_year",
         "type": "\"integer\""
        },
        {
         "metadata": "{}",
         "name": "age_group",
         "type": "\"string\""
        },
        {
         "metadata": "{}",
         "name": "median_follower_count",
         "type": "\"integer\""
        }
       ],
       "type": "table"
      }
     },
     "output_type": "display_data"
    }
   ],
   "source": [
    "# Select relevant columns for the analysis\n",
    "df_pin_user_age_year_follower = df_pin_user.select(\"user_name\", \"age\", \"date_joined\", \"follower_count\")\n",
    "\n",
    "# Extract the year from the \"date_joined\" column and assign it to the \"post_year\" column\n",
    "df_pin_user_age_year_follower = df_pin_user_age_year_follower.withColumn(\"post_year\", year(col(\"date_joined\")))\n",
    "\n",
    "# Create an \"age_group\" column based on the specified age ranges\n",
    "df_pin_user_age_year_follower = df_pin_user_age_year_follower.withColumn(\n",
    "    \"age_group\",\n",
    "    when((col(\"age\") >= 18) & (col(\"age\") <= 24), \"18-24\")\\\n",
    "    .when((col(\"age\") >= 25) & (col(\"age\") <= 35), \"25-35\")\\\n",
    "    .when((col(\"age\") >= 36) & (col(\"age\") <= 50), \"36-50\")\\\n",
    "    .otherwise(\"+50\")\n",
    ")\n",
    "\n",
    "# Group by \"post_year\" and \"age_group\" columns and calculate the median follower count for each group\n",
    "query_df_8 = df_pin_user_age_year_follower.groupBy(\"post_year\", \"age_group\") \\\n",
    "    .agg(percentile_approx(\"follower_count\", 0.5).alias(\"median_follower_count\"))\n",
    "\n",
    "display(query_df_8)"
   ]
  }
 ],
 "metadata": {
  "application/vnd.databricks.v1+notebook": {
   "dashboards": [],
   "language": "python",
   "notebookMetadata": {
    "pythonIndentUnit": 4
   },
   "notebookName": "Query_Data_Batch",
   "widgets": {}
  }
 },
 "nbformat": 4,
 "nbformat_minor": 0
}
